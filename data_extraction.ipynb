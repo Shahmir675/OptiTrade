{
 "cells": [
  {
   "cell_type": "markdown",
   "metadata": {},
   "source": [
    "## Importing Dependencies"
   ]
  },
  {
   "cell_type": "code",
   "execution_count": 3,
   "metadata": {},
   "outputs": [],
   "source": [
    "import pandas as pd\n",
    "import requests\n",
    "from tqdm.notebook import tqdm\n",
    "import yfinance as yf\n",
    "import datetime\n",
    "from concurrent.futures import ThreadPoolExecutor\n",
    "from sklearn.preprocessing import MinMaxScaler"
   ]
  },
  {
   "cell_type": "markdown",
   "metadata": {},
   "source": [
    "## Fetching tickers from NASDAQ Screener"
   ]
  },
  {
   "cell_type": "code",
   "execution_count": 4,
   "metadata": {},
   "outputs": [],
   "source": [
    "def fetch_nasdaq_data():\n",
    "    url = \"https://api.nasdaq.com/api/screener/stocks?tableonly=true&limit=25&offset=0&exchange=nasdaq&download=true\"\n",
    "    headers = {\n",
    "        'User-Agent': 'Mozilla/5.0 (Macintosh; Intel Mac OS X 10.15; rv:85.0) Gecko/20100101 Firefox/85.0'\n",
    "    }\n",
    "    response = requests.get(url, headers=headers)\n",
    "    return response.json()"
   ]
  },
  {
   "cell_type": "code",
   "execution_count": null,
   "metadata": {},
   "outputs": [],
   "source": [
    "nasdaq_data = fetch_nasdaq_data()\n",
    "df = pd.DataFrame(nasdaq_data['data']['rows'])\n",
    "print(df.shape)\n",
    "df.head()"
   ]
  },
  {
   "cell_type": "code",
   "execution_count": null,
   "metadata": {},
   "outputs": [],
   "source": [
    "# Extracing stocks based on some terms in name column\n",
    "\n",
    "to_include = 'common share|common stock|common|stock|share'\n",
    "df = df[df['name'].str.lower().str.contains(to_include, case=False, na=False)]\n",
    "print(df.shape)\n",
    "df.head()"
   ]
  },
  {
   "cell_type": "code",
   "execution_count": 7,
   "metadata": {},
   "outputs": [],
   "source": [
    "# Filtering out irrelevant tickers that include ADRs, ETFs, Rights, Units etc.\n",
    "\n",
    "df['name'] = df['name'].str.lower()\n",
    "to_exclude = ['preferred', 'depositary', 'preference', 'unit ', ' right', 'units ']\n",
    "pattern = '|'.join(to_exclude)\n",
    "df = df[~df['name'].str.contains(pattern, case=False, na=False)]\n",
    "df = df[df['country'] == 'United States']"
   ]
  },
  {
   "cell_type": "code",
   "execution_count": null,
   "metadata": {},
   "outputs": [],
   "source": [
    "df.head()"
   ]
  },
  {
   "cell_type": "code",
   "execution_count": 9,
   "metadata": {},
   "outputs": [],
   "source": [
    "# Filtering out other irrelevant assets that may contain the filter words\n",
    "\n",
    "filter_words = ['ordinary', 'common']\n",
    "pattern = '|'.join(filter_words)\n",
    "exclude_df = df[~df['name'].str.contains(pattern, case=False, na=False)]"
   ]
  },
  {
   "cell_type": "code",
   "execution_count": 10,
   "metadata": {},
   "outputs": [],
   "source": [
    "# Cleaning out the irrelevant assets\n",
    "\n",
    "merged = df.merge(exclude_df, how='outer', indicator=True)\n",
    "df = merged[merged['_merge'] == 'left_only'].drop(columns='_merge')"
   ]
  },
  {
   "cell_type": "code",
   "execution_count": null,
   "metadata": {},
   "outputs": [],
   "source": [
    "print(df.shape)\n",
    "df.head()"
   ]
  },
  {
   "cell_type": "markdown",
   "metadata": {},
   "source": [
    "## Filtering stocks for training"
   ]
  },
  {
   "cell_type": "code",
   "execution_count": 12,
   "metadata": {},
   "outputs": [],
   "source": [
    "symbols = list(df['symbol'])"
   ]
  },
  {
   "cell_type": "code",
   "execution_count": null,
   "metadata": {},
   "outputs": [],
   "source": [
    "first_trade_dates = {}\n",
    "\n",
    "def fetch(symbol):\n",
    "    stock = yf.Ticker(symbol)\n",
    "    if 'firstTradeDateEpochUtc' in stock.info:\n",
    "        first_trade_timestamp = stock.info['firstTradeDateEpochUtc']\n",
    "        return symbol, datetime.datetime.fromtimestamp(first_trade_timestamp, datetime.UTC).strftime('%Y-%m-%d %H:%M:%S')\n",
    "    return symbol, None\n",
    "\n",
    "with ThreadPoolExecutor(max_workers=8) as executor:\n",
    "    with tqdm(total=len(symbols), desc='Fetching First Trade Date', unit=' Stock') as pbar:\n",
    "        futures = {executor.submit(fetch, symbol): symbol for symbol in symbols}\n",
    "        for future in futures:\n",
    "            symbol, first_trade_date = future.result()\n",
    "            first_trade_dates[symbol] = first_trade_date\n",
    "            pbar.update(1)"
   ]
  },
  {
   "cell_type": "code",
   "execution_count": 12,
   "metadata": {},
   "outputs": [],
   "source": [
    "cutoff_date = datetime.datetime.strptime('2014-09-28', '%Y-%m-%d')\n",
    "\n",
    "stocks_before_cutoff = {\n",
    "    symbol: date for symbol, date in first_trade_dates.items()\n",
    "    if date is not None and datetime.datetime.strptime(date.split(' ')[0], '%Y-%m-%d') <= cutoff_date\n",
    "}"
   ]
  },
  {
   "cell_type": "code",
   "execution_count": 13,
   "metadata": {},
   "outputs": [],
   "source": [
    "stocks_list = list(stocks_before_cutoff.keys())"
   ]
  },
  {
   "cell_type": "code",
   "execution_count": null,
   "metadata": {},
   "outputs": [],
   "source": [
    "percentage_of_stocks = len(stocks_list) / len(df) * 100\n",
    "total_rows = len(stocks_list) * 2517\n",
    "print(f'Percentage of stocks used for training: {percentage_of_stocks:.2f}%')\n",
    "print(f'Total expected rows: {total_rows}')"
   ]
  },
  {
   "cell_type": "markdown",
   "metadata": {},
   "source": [
    "## Technical Indicators calculation"
   ]
  },
  {
   "cell_type": "code",
   "execution_count": 29,
   "metadata": {},
   "outputs": [],
   "source": [
    "def exponential_moving_avg(df, window_size=15, center=True):\n",
    "    if center == True:\n",
    "        ema_df = df['Adj Close'].shift(int(window_size/2)).ewm(span=window_size).mean()\n",
    "        return _remove_trailing_data(ema_df, window_size)\n",
    "    else:\n",
    "        ema_df = pd.Series.ewm(df['Adj Close'], span=window_size).mean()\n",
    "        return ema_df"
   ]
  },
  {
   "cell_type": "code",
   "execution_count": 30,
   "metadata": {},
   "outputs": [],
   "source": [
    "def macd_line(df, ema1_window_size=12, ema2_window_size=26, center=True):\n",
    "    macd_line_df = exponential_moving_avg(df, window_size=ema1_window_size, center=center) - exponential_moving_avg(df, window_size=ema2_window_size, center=center)\n",
    "    return macd_line_df"
   ]
  },
  {
   "cell_type": "code",
   "execution_count": 31,
   "metadata": {},
   "outputs": [],
   "source": [
    "def macd_signal(df, window_size=9, ema1_window_size=12, ema2_window_size=26, center=True):\n",
    "    macd_line_df = pd.DataFrame()\n",
    "    macd_line_df['Adj Close'] = macd_line(df, ema1_window_size=ema1_window_size, ema2_window_size=ema2_window_size, center=center)\n",
    "    return exponential_moving_avg(macd_line_df, window_size=window_size, center=center)"
   ]
  },
  {
   "cell_type": "markdown",
   "metadata": {},
   "source": [
    "## Fetching and storing data"
   ]
  },
  {
   "cell_type": "code",
   "execution_count": 32,
   "metadata": {},
   "outputs": [],
   "source": [
    "end_date = pd.Timestamp.today()\n",
    "start_date = end_date - pd.DateOffset(years=10)"
   ]
  },
  {
   "cell_type": "code",
   "execution_count": null,
   "metadata": {},
   "outputs": [],
   "source": [
    "df = pd.DataFrame()\n",
    "\n",
    "with tqdm(total=len(stocks_list), desc='Fetching Stock Data', unit=' Ticker') as pbar:\n",
    "    for ticker in stocks_list:\n",
    "        stock_data = yf.download(ticker, start=start_date, end=end_date)\n",
    "        stock_data['Ticker'] = ticker\n",
    "        stock_data = stock_data[['Ticker', 'Open', 'High', 'Low', 'Close', 'Adj Close', 'Volume']].copy()\n",
    "        stock_data['EMA'] = exponential_moving_avg(stock_data, window_size=10, center=False)\n",
    "        stock_data['MACD Line'] = macd_line(stock_data, ema1_window_size=10, ema2_window_size=20, center=False)\n",
    "        stock_data['MACD Signal'] = macd_signal(stock_data, window_size=10, ema1_window_size=10, ema2_window_size=20, center=False)\n",
    "        df = pd.concat([df, stock_data], axis=0)\n",
    "        pbar.update(1)"
   ]
  },
  {
   "cell_type": "code",
   "execution_count": null,
   "metadata": {},
   "outputs": [],
   "source": [
    "print(df.shape)\n",
    "df.head()"
   ]
  },
  {
   "cell_type": "code",
   "execution_count": 60,
   "metadata": {},
   "outputs": [],
   "source": [
    "df.to_csv('10_Year_Historical.csv')"
   ]
  },
  {
   "cell_type": "markdown",
   "metadata": {},
   "source": [
    "## TODO"
   ]
  },
  {
   "cell_type": "code",
   "execution_count": null,
   "metadata": {},
   "outputs": [],
   "source": [
    "# TODO: Experiment with technical indicators"
   ]
  },
  {
   "cell_type": "code",
   "execution_count": null,
   "metadata": {},
   "outputs": [],
   "source": []
  }
 ],
 "metadata": {
  "kernelspec": {
   "display_name": "base",
   "language": "python",
   "name": "python3"
  },
  "language_info": {
   "codemirror_mode": {
    "name": "ipython",
    "version": 3
   },
   "file_extension": ".py",
   "mimetype": "text/x-python",
   "name": "python",
   "nbconvert_exporter": "python",
   "pygments_lexer": "ipython3",
   "version": "3.12.4"
  }
 },
 "nbformat": 4,
 "nbformat_minor": 2
}
