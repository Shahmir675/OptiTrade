{
 "cells": [
  {
   "cell_type": "code",
   "execution_count": 6,
   "id": "ccf80c98",
   "metadata": {},
   "outputs": [
    {
     "name": "stdout",
     "output_type": "stream",
     "text": [
      "OTP sent to ozymandias458@gmail.com — OTP: 209654\n"
     ]
    }
   ],
   "source": [
    "import smtplib\n",
    "import random\n",
    "import ssl\n",
    "from email.mime.text import MIMEText\n",
    "from email.mime.multipart import MIMEMultipart\n",
    "\n",
    "def generate_otp(length=6):\n",
    "    return ''.join(str(random.randint(0, 9)) for _ in range(length))\n",
    "\n",
    "GMAIL_ACCOUNT = \"shahmirkhan9181@gmail.com\"\n",
    "GMAIL_PASSWORD = \"fdzs yzag qlmp brgb\"\n",
    "ALIAS_EMAIL = \"support@optitrade.com\"\n",
    "SMTP_SERVER = \"smtp.gmail.com\"\n",
    "SMTP_PORT = 587\n",
    "\n",
    "receiver_email = \"ozymandias458@gmail.com\"\n",
    "otp = generate_otp()\n",
    "subject = \"Your One-Time Password (OTP)\"\n",
    "\n",
    "body = f\"\"\"Dear User,\n",
    "\n",
    "Your One-Time Password (OTP) is:\n",
    "\n",
    "{otp}\n",
    "\n",
    "Please use this code to complete your authentication. This OTP is valid for 5 minutes.\n",
    "\n",
    "If you did not request this, please ignore this message.\n",
    "\n",
    "Regards,  \n",
    "OptiTrade Support\n",
    "\"\"\"\n",
    "\n",
    "msg = MIMEMultipart()\n",
    "msg['From'] = f'\"OptiTrade Support\" <{GMAIL_ACCOUNT}>'\n",
    "msg['To'] = receiver_email\n",
    "msg['Subject'] = subject\n",
    "msg['Reply-To'] = ALIAS_EMAIL\n",
    "msg['Return-Path'] = GMAIL_ACCOUNT\n",
    "msg.attach(MIMEText(body, 'plain'))\n",
    "\n",
    "try:\n",
    "    context = ssl.create_default_context()\n",
    "    with smtplib.SMTP(SMTP_SERVER, SMTP_PORT, timeout=3) as server:\n",
    "        server.starttls(context=context)\n",
    "        server.login(GMAIL_ACCOUNT, GMAIL_PASSWORD)\n",
    "        server.sendmail(GMAIL_ACCOUNT, receiver_email, msg.as_string())\n",
    "    print(f\"OTP sent to {receiver_email} — OTP: {otp}\")\n",
    "except Exception as e:\n",
    "    print(f\"Failed to send email: {e}\")\n"
   ]
  },
  {
   "cell_type": "code",
   "execution_count": 7,
   "id": "975baa6a",
   "metadata": {},
   "outputs": [
    {
     "name": "stdout",
     "output_type": "stream",
     "text": [
      "UTC\n"
     ]
    }
   ],
   "source": [
    "from datetime import timezone\n",
    "\n",
    "utc = timezone.utc\n",
    "print(utc)\n"
   ]
  },
  {
   "cell_type": "code",
   "execution_count": null,
   "id": "d71d344b",
   "metadata": {},
   "outputs": [],
   "source": []
  }
 ],
 "metadata": {
  "kernelspec": {
   "display_name": "base",
   "language": "python",
   "name": "python3"
  },
  "language_info": {
   "codemirror_mode": {
    "name": "ipython",
    "version": 3
   },
   "file_extension": ".py",
   "mimetype": "text/x-python",
   "name": "python",
   "nbconvert_exporter": "python",
   "pygments_lexer": "ipython3",
   "version": "3.12.9"
  }
 },
 "nbformat": 4,
 "nbformat_minor": 5
}
