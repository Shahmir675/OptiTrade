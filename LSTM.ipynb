{
 "cells": [
  {
   "cell_type": "markdown",
   "metadata": {},
   "source": [
    "## Importing Dependencies"
   ]
  },
  {
   "cell_type": "code",
   "execution_count": 93,
   "metadata": {
    "id": "Txah9bcaTlZh"
   },
   "outputs": [],
   "source": [
    "import numpy as np\n",
    "import pandas as pd\n",
    "import gc\n",
    "from IPython.display import clear_output\n",
    "import torch\n",
    "import torch.nn as nn\n",
    "import torch.optim as optim\n",
    "from tqdm import tqdm\n",
    "import time\n",
    "from sklearn.metrics import mean_squared_error, root_mean_squared_error, mean_absolute_error\n",
    "import matplotlib.pyplot as plt\n",
    "import random\n",
    "import warnings\n",
    "from feature_engineering import exponential_moving_avg, macd_line, macd_signal, convert_numeric, scale_group"
   ]
  },
  {
   "cell_type": "code",
   "execution_count": 65,
   "metadata": {},
   "outputs": [],
   "source": [
    "warnings.filterwarnings('ignore', category=DeprecationWarning)"
   ]
  },
  {
   "cell_type": "markdown",
   "metadata": {
    "id": "nm_KEQNaUKcy"
   },
   "source": [
    "## Loading Dataset"
   ]
  },
  {
   "cell_type": "code",
   "execution_count": 2,
   "metadata": {},
   "outputs": [],
   "source": [
    "scaled_df = pd.read_csv('10_Year_Historical_Scaled.csv').drop('Unnamed: 0', axis=1)"
   ]
  },
  {
   "cell_type": "code",
   "execution_count": 7,
   "metadata": {},
   "outputs": [
    {
     "data": {
      "text/html": [
       "<div>\n",
       "<style scoped>\n",
       "    .dataframe tbody tr th:only-of-type {\n",
       "        vertical-align: middle;\n",
       "    }\n",
       "\n",
       "    .dataframe tbody tr th {\n",
       "        vertical-align: top;\n",
       "    }\n",
       "\n",
       "    .dataframe thead th {\n",
       "        text-align: right;\n",
       "    }\n",
       "</style>\n",
       "<table border=\"1\" class=\"dataframe\">\n",
       "  <thead>\n",
       "    <tr style=\"text-align: right;\">\n",
       "      <th></th>\n",
       "      <th>Ticker</th>\n",
       "      <th>Date</th>\n",
       "      <th>Adj Close</th>\n",
       "      <th>EMA 20</th>\n",
       "      <th>EMA 50</th>\n",
       "      <th>MACD Line</th>\n",
       "      <th>MACD Signal</th>\n",
       "    </tr>\n",
       "  </thead>\n",
       "  <tbody>\n",
       "    <tr>\n",
       "      <th>0</th>\n",
       "      <td>AAL</td>\n",
       "      <td>2014-10-20</td>\n",
       "      <td>0.505697</td>\n",
       "      <td>0.529674</td>\n",
       "      <td>0.544502</td>\n",
       "      <td>0.607034</td>\n",
       "      <td>0.610477</td>\n",
       "    </tr>\n",
       "    <tr>\n",
       "      <th>1</th>\n",
       "      <td>AAL</td>\n",
       "      <td>2014-10-21</td>\n",
       "      <td>0.557537</td>\n",
       "      <td>0.535072</td>\n",
       "      <td>0.546847</td>\n",
       "      <td>0.639224</td>\n",
       "      <td>0.617646</td>\n",
       "    </tr>\n",
       "    <tr>\n",
       "      <th>2</th>\n",
       "      <td>AAL</td>\n",
       "      <td>2014-10-22</td>\n",
       "      <td>0.541571</td>\n",
       "      <td>0.538294</td>\n",
       "      <td>0.548377</td>\n",
       "      <td>0.654164</td>\n",
       "      <td>0.626708</td>\n",
       "    </tr>\n",
       "    <tr>\n",
       "      <th>3</th>\n",
       "      <td>AAL</td>\n",
       "      <td>2014-10-23</td>\n",
       "      <td>0.569956</td>\n",
       "      <td>0.544164</td>\n",
       "      <td>0.551131</td>\n",
       "      <td>0.682956</td>\n",
       "      <td>0.640369</td>\n",
       "    </tr>\n",
       "    <tr>\n",
       "      <th>4</th>\n",
       "      <td>AAL</td>\n",
       "      <td>2014-10-24</td>\n",
       "      <td>0.596369</td>\n",
       "      <td>0.552225</td>\n",
       "      <td>0.554972</td>\n",
       "      <td>0.721051</td>\n",
       "      <td>0.659782</td>\n",
       "    </tr>\n",
       "    <tr>\n",
       "      <th>...</th>\n",
       "      <td>...</td>\n",
       "      <td>...</td>\n",
       "      <td>...</td>\n",
       "      <td>...</td>\n",
       "      <td>...</td>\n",
       "      <td>...</td>\n",
       "      <td>...</td>\n",
       "    </tr>\n",
       "    <tr>\n",
       "      <th>3221755</th>\n",
       "      <td>ZYXI</td>\n",
       "      <td>2024-10-14</td>\n",
       "      <td>0.308423</td>\n",
       "      <td>0.348974</td>\n",
       "      <td>0.407447</td>\n",
       "      <td>0.406825</td>\n",
       "      <td>0.412171</td>\n",
       "    </tr>\n",
       "    <tr>\n",
       "      <th>3221756</th>\n",
       "      <td>ZYXI</td>\n",
       "      <td>2024-10-15</td>\n",
       "      <td>0.307252</td>\n",
       "      <td>0.349241</td>\n",
       "      <td>0.407083</td>\n",
       "      <td>0.411746</td>\n",
       "      <td>0.412160</td>\n",
       "    </tr>\n",
       "    <tr>\n",
       "      <th>3221757</th>\n",
       "      <td>ZYXI</td>\n",
       "      <td>2024-10-16</td>\n",
       "      <td>0.304910</td>\n",
       "      <td>0.349227</td>\n",
       "      <td>0.406615</td>\n",
       "      <td>0.414378</td>\n",
       "      <td>0.412735</td>\n",
       "    </tr>\n",
       "    <tr>\n",
       "      <th>3221758</th>\n",
       "      <td>ZYXI</td>\n",
       "      <td>2024-10-17</td>\n",
       "      <td>0.307252</td>\n",
       "      <td>0.349470</td>\n",
       "      <td>0.406285</td>\n",
       "      <td>0.418152</td>\n",
       "      <td>0.414030</td>\n",
       "    </tr>\n",
       "    <tr>\n",
       "      <th>3221759</th>\n",
       "      <td>ZYXI</td>\n",
       "      <td>2024-10-18</td>\n",
       "      <td>0.310375</td>\n",
       "      <td>0.350031</td>\n",
       "      <td>0.406126</td>\n",
       "      <td>0.423270</td>\n",
       "      <td>0.416200</td>\n",
       "    </tr>\n",
       "  </tbody>\n",
       "</table>\n",
       "<p>3221760 rows × 7 columns</p>\n",
       "</div>"
      ],
      "text/plain": [
       "        Ticker        Date  Adj Close    EMA 20    EMA 50  MACD Line  \\\n",
       "0          AAL  2014-10-20   0.505697  0.529674  0.544502   0.607034   \n",
       "1          AAL  2014-10-21   0.557537  0.535072  0.546847   0.639224   \n",
       "2          AAL  2014-10-22   0.541571  0.538294  0.548377   0.654164   \n",
       "3          AAL  2014-10-23   0.569956  0.544164  0.551131   0.682956   \n",
       "4          AAL  2014-10-24   0.596369  0.552225  0.554972   0.721051   \n",
       "...        ...         ...        ...       ...       ...        ...   \n",
       "3221755   ZYXI  2024-10-14   0.308423  0.348974  0.407447   0.406825   \n",
       "3221756   ZYXI  2024-10-15   0.307252  0.349241  0.407083   0.411746   \n",
       "3221757   ZYXI  2024-10-16   0.304910  0.349227  0.406615   0.414378   \n",
       "3221758   ZYXI  2024-10-17   0.307252  0.349470  0.406285   0.418152   \n",
       "3221759   ZYXI  2024-10-18   0.310375  0.350031  0.406126   0.423270   \n",
       "\n",
       "         MACD Signal  \n",
       "0           0.610477  \n",
       "1           0.617646  \n",
       "2           0.626708  \n",
       "3           0.640369  \n",
       "4           0.659782  \n",
       "...              ...  \n",
       "3221755     0.412171  \n",
       "3221756     0.412160  \n",
       "3221757     0.412735  \n",
       "3221758     0.414030  \n",
       "3221759     0.416200  \n",
       "\n",
       "[3221760 rows x 7 columns]"
      ]
     },
     "execution_count": 7,
     "metadata": {},
     "output_type": "execute_result"
    }
   ],
   "source": [
    "scaled_df"
   ]
  },
  {
   "cell_type": "markdown",
   "metadata": {},
   "source": [
    "## Dataset Creation and Train-Test Split"
   ]
  },
  {
   "cell_type": "code",
   "execution_count": 104,
   "metadata": {
    "id": "kMjQtG30TvB0"
   },
   "outputs": [],
   "source": [
    "def create_dataset(data, lookback, prediction_horizon):\n",
    "    n_samples = len(data) - lookback - prediction_horizon\n",
    "    if n_samples <= 0:\n",
    "        return np.empty((0, lookback, data.shape[1] - 1)), np.empty((0, prediction_horizon))\n",
    "\n",
    "    X = np.empty((n_samples, lookback, data.shape[1] - 1), dtype=np.float32)\n",
    "    Y = np.empty((n_samples, prediction_horizon), dtype=np.float32)\n",
    "\n",
    "    for i in range(n_samples):\n",
    "        X[i] = data[i:(i + lookback), 1:]\n",
    "        Y[i] = data[(i + lookback):(i + lookback + prediction_horizon), 0]\n",
    "\n",
    "    return X, Y"
   ]
  },
  {
   "cell_type": "code",
   "execution_count": 9,
   "metadata": {
    "colab": {
     "base_uri": "https://localhost:8080/"
    },
    "id": "vDa_ivTeT_hZ",
    "outputId": "497abf8d-8429-47c7-8a39-597092079355"
   },
   "outputs": [],
   "source": [
    "def process_stock_data(df, lookback, prediction_horizon):\n",
    "    tickers = df['Ticker'].unique()\n",
    "    train_x_list, train_y_list, test_x_list, test_y_list = [], [], [], []\n",
    "\n",
    "    total_train_samples, total_test_samples = 0, 0\n",
    "\n",
    "    for ticker in tickers:\n",
    "        stock_data = df[df['Ticker'] == ticker].copy()\n",
    "        stock_data.drop(columns=['Ticker', 'Date'], inplace=True)\n",
    "\n",
    "        train_split_len = int(len(stock_data) * 0.8)\n",
    "        train_data = stock_data.values[:train_split_len]\n",
    "        test_data = stock_data.values[train_split_len:]\n",
    "\n",
    "        usable_train_samples = len(train_data) - lookback - prediction_horizon\n",
    "        usable_test_samples = len(test_data) - lookback - prediction_horizon\n",
    "\n",
    "        print(f\"Ticker: {ticker}, Train rows: {len(train_data)}, Test rows: {len(test_data)}\")\n",
    "        print(f\"Ticker: {ticker}, Usable train samples: {usable_train_samples}, Usable test samples: {usable_test_samples}\")\n",
    "\n",
    "        train_x, train_y = create_dataset(train_data, lookback, prediction_horizon)\n",
    "        test_x, test_y = create_dataset(test_data, lookback, prediction_horizon)\n",
    "\n",
    "        total_train_samples += train_x.shape[0]\n",
    "        total_test_samples += test_x.shape[0]\n",
    "\n",
    "        train_x_list.append(train_x)\n",
    "        train_y_list.append(train_y)\n",
    "        test_x_list.append(test_x)\n",
    "        test_y_list.append(test_y)\n",
    "\n",
    "        del train_data, test_data\n",
    "        gc.collect()\n",
    "\n",
    "    train_x = np.concatenate(train_x_list, axis=0)\n",
    "    train_y = np.concatenate(train_y_list, axis=0)\n",
    "    test_x = np.concatenate(test_x_list, axis=0)\n",
    "    test_y = np.concatenate(test_y_list, axis=0)\n",
    "\n",
    "    clear_output(wait=True)\n",
    "    print(f\"Total train samples: {total_train_samples}, Total test samples: {total_test_samples}\")\n",
    "\n",
    "    return train_x, train_y, test_x, test_y"
   ]
  },
  {
   "cell_type": "code",
   "execution_count": 10,
   "metadata": {
    "colab": {
     "base_uri": "https://localhost:8080/"
    },
    "id": "vDa_ivTeT_hZ",
    "outputId": "497abf8d-8429-47c7-8a39-597092079355"
   },
   "outputs": [
    {
     "name": "stdout",
     "output_type": "stream",
     "text": [
      "Total train samples: 2490880, Total test samples: 559360\n",
      "Training data shape: X=(2490880, 60, 4), Y=(2490880, 7)\n",
      "Testing data shape: X=(559360, 60, 4), Y=(559360, 7)\n"
     ]
    }
   ],
   "source": [
    "lookback = 60\n",
    "prediction_horizon = 7\n",
    "\n",
    "train_x, train_y, test_x, test_y = process_stock_data(scaled_df, lookback, prediction_horizon)\n",
    "\n",
    "gc.collect()\n",
    "\n",
    "print(f\"Training data shape: X={train_x.shape}, Y={train_y.shape}\")\n",
    "print(f\"Testing data shape: X={test_x.shape}, Y={test_y.shape}\")"
   ]
  },
  {
   "cell_type": "markdown",
   "metadata": {},
   "source": [
    "## Model Building and Training"
   ]
  },
  {
   "cell_type": "code",
   "execution_count": 119,
   "metadata": {
    "colab": {
     "base_uri": "https://localhost:8080/"
    },
    "id": "vDa_ivTeT_hZ",
    "outputId": "497abf8d-8429-47c7-8a39-597092079355"
   },
   "outputs": [],
   "source": [
    "device = torch.device('cuda' if torch.cuda.is_available() else 'cpu')"
   ]
  },
  {
   "cell_type": "code",
   "execution_count": 120,
   "metadata": {},
   "outputs": [
    {
     "name": "stdout",
     "output_type": "stream",
     "text": [
      "Device being used: cpu\n"
     ]
    }
   ],
   "source": [
    "print(f\"Device being used: {device}\")"
   ]
  },
  {
   "cell_type": "code",
   "execution_count": 127,
   "metadata": {},
   "outputs": [],
   "source": [
    "class LSTMModel(nn.Module):\n",
    "    def __init__(self, input_size, hidden_size=32):\n",
    "        super(LSTMModel, self).__init__()\n",
    "        self.lstm = nn.LSTM(input_size, hidden_size, batch_first=True)\n",
    "        self.fc = nn.Linear(hidden_size, prediction_horizon)\n",
    "\n",
    "    def forward(self, x):\n",
    "        out, _ = self.lstm(x)\n",
    "        out = self.fc(out[:, -1, :])\n",
    "        return out"
   ]
  },
  {
   "cell_type": "code",
   "execution_count": null,
   "metadata": {},
   "outputs": [],
   "source": [
    "train_x_tensor = torch.FloatTensor(train_x).to(device)\n",
    "train_y_tensor = torch.FloatTensor(train_y).to(device)\n",
    "test_x_tensor = torch.FloatTensor(test_x).to(device)\n",
    "test_y_tensor = torch.FloatTensor(test_y).to(device)"
   ]
  },
  {
   "cell_type": "code",
   "execution_count": 15,
   "metadata": {},
   "outputs": [],
   "source": [
    "input_size = train_x.shape[2]\n",
    "model = LSTMModel(input_size=input_size).to(device)\n",
    "criterion = nn.MSELoss()\n",
    "optimizer = optim.Adam(model.parameters(), lr=0.001)"
   ]
  },
  {
   "cell_type": "code",
   "execution_count": 126,
   "metadata": {},
   "outputs": [],
   "source": [
    "num_epochs = 5\n",
    "batch_size = 32"
   ]
  },
  {
   "cell_type": "code",
   "execution_count": 13,
   "metadata": {
    "colab": {
     "base_uri": "https://localhost:8080/"
    },
    "id": "EWD1udTdW-hC",
    "outputId": "7e2af872-c3a2-46da-b21d-8f285a875de2"
   },
   "outputs": [
    {
     "name": "stderr",
     "output_type": "stream",
     "text": [
      "Epoch 1/5: 100%|██████████| 77840/77840 [04:34<00:00, 283.68batch/s, loss=0.000394]\n"
     ]
    },
    {
     "name": "stdout",
     "output_type": "stream",
     "text": [
      "Epoch [1/5], Avg Loss: 0.0023, Time Elapsed: 274.39s, Estimated Time Left: 1097.57s\n"
     ]
    },
    {
     "name": "stderr",
     "output_type": "stream",
     "text": [
      "Epoch 2/5: 100%|██████████| 77840/77840 [04:34<00:00, 283.95batch/s, loss=0.000418]\n"
     ]
    },
    {
     "name": "stdout",
     "output_type": "stream",
     "text": [
      "Epoch [2/5], Avg Loss: 0.0018, Time Elapsed: 548.53s, Estimated Time Left: 822.79s\n"
     ]
    },
    {
     "name": "stderr",
     "output_type": "stream",
     "text": [
      "Epoch 3/5: 100%|██████████| 77840/77840 [04:35<00:00, 282.79batch/s, loss=0.000423]\n"
     ]
    },
    {
     "name": "stdout",
     "output_type": "stream",
     "text": [
      "Epoch [3/5], Avg Loss: 0.0017, Time Elapsed: 823.79s, Estimated Time Left: 549.19s\n"
     ]
    },
    {
     "name": "stderr",
     "output_type": "stream",
     "text": [
      "Epoch 4/5: 100%|██████████| 77840/77840 [04:35<00:00, 282.73batch/s, loss=0.000417]\n"
     ]
    },
    {
     "name": "stdout",
     "output_type": "stream",
     "text": [
      "Epoch [4/5], Avg Loss: 0.0016, Time Elapsed: 1099.11s, Estimated Time Left: 274.78s\n"
     ]
    },
    {
     "name": "stderr",
     "output_type": "stream",
     "text": [
      "Epoch 5/5: 100%|██████████| 77840/77840 [04:34<00:00, 283.56batch/s, loss=0.000422]"
     ]
    },
    {
     "name": "stdout",
     "output_type": "stream",
     "text": [
      "Epoch [5/5], Avg Loss: 0.0016, Time Elapsed: 1373.62s, Estimated Time Left: 0.00s\n"
     ]
    },
    {
     "name": "stderr",
     "output_type": "stream",
     "text": [
      "\n"
     ]
    }
   ],
   "source": [
    "start_time = time.time()\n",
    "\n",
    "for epoch in range(num_epochs):\n",
    "    model.train()\n",
    "    epoch_loss = 0.0\n",
    "    num_batches = len(train_x_tensor) // batch_size\n",
    "\n",
    "    with tqdm(total=num_batches, desc=f'Epoch {epoch + 1}/{num_epochs}', unit='batch') as pbar:\n",
    "        for i in range(0, len(train_x_tensor), batch_size):\n",
    "            optimizer.zero_grad()\n",
    "            x_batch = train_x_tensor[i:i + batch_size]\n",
    "            y_batch = train_y_tensor[i:i + batch_size]\n",
    "\n",
    "            y_pred = model(x_batch)\n",
    "\n",
    "            loss = criterion(y_pred, y_batch)\n",
    "            epoch_loss += loss.item()\n",
    "\n",
    "            loss.backward()\n",
    "            optimizer.step()\n",
    "\n",
    "            pbar.update(1)\n",
    "            pbar.set_postfix(loss=loss.item())\n",
    "\n",
    "    avg_epoch_loss = epoch_loss / num_batches\n",
    "    elapsed_time = time.time() - start_time\n",
    "    time_left = (elapsed_time / (epoch + 1)) * (num_epochs - (epoch + 1))\n",
    "\n",
    "    print(f'Epoch [{epoch + 1}/{num_epochs}], Avg Loss: {avg_epoch_loss:.4f}, Time Elapsed: {elapsed_time:.2f}s, Estimated Time Left: {time_left:.2f}s')"
   ]
  },
  {
   "cell_type": "markdown",
   "metadata": {},
   "source": [
    "## Saving the model"
   ]
  },
  {
   "cell_type": "code",
   "execution_count": 17,
   "metadata": {},
   "outputs": [],
   "source": [
    "torch.save(model.state_dict(), 'LSTM.pth')"
   ]
  },
  {
   "cell_type": "markdown",
   "metadata": {},
   "source": [
    "## Loading the model"
   ]
  },
  {
   "cell_type": "code",
   "execution_count": 130,
   "metadata": {},
   "outputs": [
    {
     "name": "stderr",
     "output_type": "stream",
     "text": [
      "/tmp/ipykernel_17357/4194769303.py:1: FutureWarning: You are using `torch.load` with `weights_only=False` (the current default value), which uses the default pickle module implicitly. It is possible to construct malicious pickle data which will execute arbitrary code during unpickling (See https://github.com/pytorch/pytorch/blob/main/SECURITY.md#untrusted-models for more details). In a future release, the default value for `weights_only` will be flipped to `True`. This limits the functions that could be executed during unpickling. Arbitrary objects will no longer be allowed to be loaded via this mode unless they are explicitly allowlisted by the user via `torch.serialization.add_safe_globals`. We recommend you start setting `weights_only=True` for any use case where you don't have full control of the loaded file. Please open an issue on GitHub for any issues related to this experimental feature.\n",
      "  model.load_state_dict(torch.load('LSTM.pth', map_location=device))\n"
     ]
    },
    {
     "data": {
      "text/plain": [
       "<All keys matched successfully>"
      ]
     },
     "execution_count": 130,
     "metadata": {},
     "output_type": "execute_result"
    }
   ],
   "source": [
    "model.load_state_dict(torch.load('LSTM.pth', map_location=device))"
   ]
  },
  {
   "cell_type": "markdown",
   "metadata": {},
   "source": [
    "## Testing"
   ]
  },
  {
   "cell_type": "code",
   "execution_count": 132,
   "metadata": {},
   "outputs": [],
   "source": [
    "def get_batched_predictions(model, test_x_tensor, batch_size):\n",
    "    predictions = []\n",
    "    model.eval()\n",
    "    with torch.no_grad():\n",
    "        for i in range(0, len(test_x_tensor), batch_size):\n",
    "            x_batch = test_x_tensor[i:i + batch_size]\n",
    "            batch_predictions = model(x_batch)\n",
    "            predictions.append(batch_predictions.cpu().numpy())\n",
    "            torch.cuda.empty_cache()\n",
    "    return np.concatenate(predictions, axis=0)"
   ]
  },
  {
   "cell_type": "code",
   "execution_count": 19,
   "metadata": {},
   "outputs": [],
   "source": [
    "test_predictions = get_batched_predictions(model, test_x_tensor, batch_size)\n",
    "\n",
    "test_y_true = test_y_tensor.cpu().numpy()\n",
    "\n",
    "if len(test_predictions.shape) > 1 and test_predictions.shape[1] > 1:\n",
    "    test_predictions = test_predictions[:, 0]\n",
    "    test_y_true = test_y_true[:, 0]"
   ]
  },
  {
   "cell_type": "code",
   "execution_count": 20,
   "metadata": {},
   "outputs": [],
   "source": [
    "mse = mean_squared_error(test_y_true, test_predictions)\n",
    "mae = mean_absolute_error(test_y_true, test_predictions)\n",
    "rmse = root_mean_squared_error(test_y_true, test_predictions)"
   ]
  },
  {
   "cell_type": "code",
   "execution_count": 21,
   "metadata": {},
   "outputs": [
    {
     "name": "stdout",
     "output_type": "stream",
     "text": [
      "Evaluation Metrics\n",
      "Mean Squared Error (MSE): 0.0013\n",
      "Mean Absolute Error (MAE): 0.0263\n",
      "Root Mean-Squared Error (RMSE): 0.04\n"
     ]
    }
   ],
   "source": [
    "print(\"Evaluation Metrics\")\n",
    "print(f\"Mean Squared Error (MSE): {mse:.4f}\")\n",
    "print(f\"Mean Absolute Error (MAE): {mae:.4f}\")\n",
    "print(f\"Root Mean-Squared Error (RMSE): {rmse:.2f}\")"
   ]
  },
  {
   "cell_type": "code",
   "execution_count": 23,
   "metadata": {},
   "outputs": [
    {
     "data": {
      "image/png": "[encoded data removed]",
      "text/plain": [
       "<Figure size 1200x600 with 1 Axes>"
      ]
     },
     "metadata": {},
     "output_type": "display_data"
    }
   ],
   "source": [
    "plt.figure(figsize=(12, 6))\n",
    "plt.plot(test_y_true[:200], label='Actual', color='blue', linestyle='dashed')\n",
    "plt.plot(test_predictions[:200], label='Predicted', color='red')\n",
    "plt.title('Predicted vs. Actual Stock Prices')\n",
    "plt.xlabel('Sample Index')\n",
    "plt.ylabel('Normalized Stock Price')\n",
    "plt.legend()\n",
    "plt.grid(True, linestyle='--', linewidth=0.5)\n",
    "plt.show()"
   ]
  },
  {
   "cell_type": "markdown",
   "metadata": {},
   "source": [
    "## Generalization Testing"
   ]
  },
  {
   "cell_type": "code",
   "execution_count": 12,
   "metadata": {},
   "outputs": [],
   "source": [
    "def random_tickers(scaled_df, num_tickers=1000):\n",
    "    unique_tickers = scaled_df['Ticker'].unique()\n",
    "    return random.sample(list(unique_tickers), min(num_tickers, len(unique_tickers)))\n",
    "\n",
    "selected_tickers = random_tickers(scaled_df)"
   ]
  },
  {
   "cell_type": "code",
   "execution_count": 13,
   "metadata": {},
   "outputs": [],
   "source": [
    "end_date = pd.Timestamp.today()\n",
    "start_date = end_date - pd.DateOffset(months=10)"
   ]
  },
  {
   "cell_type": "code",
   "execution_count": 16,
   "metadata": {},
   "outputs": [
    {
     "name": "stderr",
     "output_type": "stream",
     "text": [
      "Fetching Stock Data: 100%|██████████| 1000/1000 [13:48<00:00,  1.21 Ticker/s]\n"
     ]
    }
   ],
   "source": [
    "df = pd.DataFrame()\n",
    "\n",
    "with tqdm(total=len(selected_tickers), desc='Fetching Stock Data', unit=' Ticker') as pbar:\n",
    "    for ticker in selected_tickers:\n",
    "        stock_data = yf.download(ticker, start=start_date, end=end_date, progress=False)\n",
    "        stock_data['Ticker'] = ticker\n",
    "        stock_data = stock_data[['Ticker', 'Open', 'High', 'Low', 'Close', 'Adj Close', 'Volume']]\n",
    "        df = pd.concat([df, stock_data])\n",
    "        pbar.update(1)"
   ]
  },
  {
   "cell_type": "code",
   "execution_count": 45,
   "metadata": {},
   "outputs": [
    {
     "name": "stdout",
     "output_type": "stream",
     "text": [
      "210933\n"
     ]
    },
    {
     "data": {
      "text/plain": [
       "211000"
      ]
     },
     "execution_count": 45,
     "metadata": {},
     "output_type": "execute_result"
    }
   ],
   "source": [
    "print(df.shape[0])\n",
    "211 * 1000"
   ]
  },
  {
   "cell_type": "code",
   "execution_count": 30,
   "metadata": {},
   "outputs": [],
   "source": [
    "missing_tickers = []\n",
    "for ticker in df['Ticker'].unique():\n",
    "    if df[df['Ticker'] == ticker].shape[0] != 211:\n",
    "        missing_tickers.append(ticker)"
   ]
  },
  {
   "cell_type": "code",
   "execution_count": 31,
   "metadata": {},
   "outputs": [
    {
     "data": {
      "text/plain": [
       "['LUMO', 'ITI', 'SRCL']"
      ]
     },
     "execution_count": 31,
     "metadata": {},
     "output_type": "execute_result"
    }
   ],
   "source": [
    "missing_tickers"
   ]
  },
  {
   "cell_type": "code",
   "execution_count": 46,
   "metadata": {},
   "outputs": [],
   "source": [
    "df = df[~df['Ticker'].isin(missing_tickers)]"
   ]
  },
  {
   "cell_type": "code",
   "execution_count": 49,
   "metadata": {},
   "outputs": [
    {
     "name": "stdout",
     "output_type": "stream",
     "text": [
      "(210367, 7)\n"
     ]
    },
    {
     "data": {
      "text/html": [
       "<div>\n",
       "<style scoped>\n",
       "    .dataframe tbody tr th:only-of-type {\n",
       "        vertical-align: middle;\n",
       "    }\n",
       "\n",
       "    .dataframe tbody tr th {\n",
       "        vertical-align: top;\n",
       "    }\n",
       "\n",
       "    .dataframe thead th {\n",
       "        text-align: right;\n",
       "    }\n",
       "</style>\n",
       "<table border=\"1\" class=\"dataframe\">\n",
       "  <thead>\n",
       "    <tr style=\"text-align: right;\">\n",
       "      <th></th>\n",
       "      <th>Ticker</th>\n",
       "      <th>Open</th>\n",
       "      <th>High</th>\n",
       "      <th>Low</th>\n",
       "      <th>Close</th>\n",
       "      <th>Adj Close</th>\n",
       "      <th>Volume</th>\n",
       "    </tr>\n",
       "    <tr>\n",
       "      <th>Date</th>\n",
       "      <th></th>\n",
       "      <th></th>\n",
       "      <th></th>\n",
       "      <th></th>\n",
       "      <th></th>\n",
       "      <th></th>\n",
       "      <th></th>\n",
       "    </tr>\n",
       "  </thead>\n",
       "  <tbody>\n",
       "    <tr>\n",
       "      <th>2024-02-20</th>\n",
       "      <td>GLBZ</td>\n",
       "      <td>6.18</td>\n",
       "      <td>6.23</td>\n",
       "      <td>6.18</td>\n",
       "      <td>6.23</td>\n",
       "      <td>5.975924</td>\n",
       "      <td>1700</td>\n",
       "    </tr>\n",
       "    <tr>\n",
       "      <th>2024-02-21</th>\n",
       "      <td>GLBZ</td>\n",
       "      <td>6.31</td>\n",
       "      <td>6.31</td>\n",
       "      <td>6.25</td>\n",
       "      <td>6.28</td>\n",
       "      <td>6.023885</td>\n",
       "      <td>2500</td>\n",
       "    </tr>\n",
       "    <tr>\n",
       "      <th>2024-02-22</th>\n",
       "      <td>GLBZ</td>\n",
       "      <td>6.58</td>\n",
       "      <td>6.58</td>\n",
       "      <td>6.40</td>\n",
       "      <td>6.45</td>\n",
       "      <td>6.186952</td>\n",
       "      <td>1400</td>\n",
       "    </tr>\n",
       "    <tr>\n",
       "      <th>2024-02-23</th>\n",
       "      <td>GLBZ</td>\n",
       "      <td>6.45</td>\n",
       "      <td>6.45</td>\n",
       "      <td>6.45</td>\n",
       "      <td>6.45</td>\n",
       "      <td>6.186952</td>\n",
       "      <td>100</td>\n",
       "    </tr>\n",
       "    <tr>\n",
       "      <th>2024-02-26</th>\n",
       "      <td>GLBZ</td>\n",
       "      <td>6.58</td>\n",
       "      <td>6.75</td>\n",
       "      <td>6.58</td>\n",
       "      <td>6.60</td>\n",
       "      <td>6.330835</td>\n",
       "      <td>1100</td>\n",
       "    </tr>\n",
       "    <tr>\n",
       "      <th>2024-02-27</th>\n",
       "      <td>GLBZ</td>\n",
       "      <td>6.29</td>\n",
       "      <td>6.60</td>\n",
       "      <td>6.22</td>\n",
       "      <td>6.60</td>\n",
       "      <td>6.330835</td>\n",
       "      <td>2300</td>\n",
       "    </tr>\n",
       "    <tr>\n",
       "      <th>2024-02-28</th>\n",
       "      <td>GLBZ</td>\n",
       "      <td>6.26</td>\n",
       "      <td>6.26</td>\n",
       "      <td>6.26</td>\n",
       "      <td>6.26</td>\n",
       "      <td>6.004701</td>\n",
       "      <td>200</td>\n",
       "    </tr>\n",
       "    <tr>\n",
       "      <th>2024-02-29</th>\n",
       "      <td>GLBZ</td>\n",
       "      <td>6.29</td>\n",
       "      <td>6.34</td>\n",
       "      <td>6.20</td>\n",
       "      <td>6.20</td>\n",
       "      <td>5.947148</td>\n",
       "      <td>5000</td>\n",
       "    </tr>\n",
       "    <tr>\n",
       "      <th>2024-03-01</th>\n",
       "      <td>GLBZ</td>\n",
       "      <td>6.60</td>\n",
       "      <td>6.60</td>\n",
       "      <td>6.22</td>\n",
       "      <td>6.59</td>\n",
       "      <td>6.321243</td>\n",
       "      <td>2100</td>\n",
       "    </tr>\n",
       "    <tr>\n",
       "      <th>2024-03-04</th>\n",
       "      <td>GLBZ</td>\n",
       "      <td>6.10</td>\n",
       "      <td>6.59</td>\n",
       "      <td>6.04</td>\n",
       "      <td>6.57</td>\n",
       "      <td>6.302059</td>\n",
       "      <td>3900</td>\n",
       "    </tr>\n",
       "  </tbody>\n",
       "</table>\n",
       "</div>"
      ],
      "text/plain": [
       "           Ticker  Open  High   Low  Close  Adj Close  Volume\n",
       "Date                                                         \n",
       "2024-02-20   GLBZ  6.18  6.23  6.18   6.23   5.975924    1700\n",
       "2024-02-21   GLBZ  6.31  6.31  6.25   6.28   6.023885    2500\n",
       "2024-02-22   GLBZ  6.58  6.58  6.40   6.45   6.186952    1400\n",
       "2024-02-23   GLBZ  6.45  6.45  6.45   6.45   6.186952     100\n",
       "2024-02-26   GLBZ  6.58  6.75  6.58   6.60   6.330835    1100\n",
       "2024-02-27   GLBZ  6.29  6.60  6.22   6.60   6.330835    2300\n",
       "2024-02-28   GLBZ  6.26  6.26  6.26   6.26   6.004701     200\n",
       "2024-02-29   GLBZ  6.29  6.34  6.20   6.20   5.947148    5000\n",
       "2024-03-01   GLBZ  6.60  6.60  6.22   6.59   6.321243    2100\n",
       "2024-03-04   GLBZ  6.10  6.59  6.04   6.57   6.302059    3900"
      ]
     },
     "execution_count": 49,
     "metadata": {},
     "output_type": "execute_result"
    }
   ],
   "source": [
    "print(df.shape)\n",
    "df.head(10)"
   ]
  },
  {
   "cell_type": "code",
   "execution_count": 55,
   "metadata": {},
   "outputs": [],
   "source": [
    "def rearrange_df(df):\n",
    "    df = df.reset_index()\n",
    "    df = df[['Date', 'Ticker', 'Adj Close']]\n",
    "    df['Date'] = pd.to_datetime(df['Date'])\n",
    "    return df\n",
    "\n",
    "df = rearrange_df(df.copy())"
   ]
  },
  {
   "cell_type": "code",
   "execution_count": 61,
   "metadata": {},
   "outputs": [],
   "source": [
    "df = df.sort_values(by=['Date', 'Ticker']).reset_index(drop=True)"
   ]
  },
  {
   "cell_type": "code",
   "execution_count": 66,
   "metadata": {},
   "outputs": [],
   "source": [
    "df['EMA 20'] = df.groupby('Ticker').apply(lambda x: exponential_moving_avg(x, price_col='Adj Close', window_size=20)).reset_index(level=0, drop=True)\n",
    "df['EMA 50'] = df.groupby('Ticker').apply(lambda x: exponential_moving_avg(x, price_col='Adj Close', window_size=50)).reset_index(level=0, drop=True)\n",
    "df['MACD Line'] = df.groupby('Ticker').apply(lambda x: macd_line(x, price_col='Adj Close')).reset_index(level=0, drop=True)\n",
    "df['MACD Signal'] = df.groupby('Ticker').apply(lambda x: macd_signal(x, price_col='Adj Close')).reset_index(level=0, drop=True)"
   ]
  },
  {
   "cell_type": "code",
   "execution_count": 67,
   "metadata": {},
   "outputs": [
    {
     "data": {
      "text/html": [
       "<div>\n",
       "<style scoped>\n",
       "    .dataframe tbody tr th:only-of-type {\n",
       "        vertical-align: middle;\n",
       "    }\n",
       "\n",
       "    .dataframe tbody tr th {\n",
       "        vertical-align: top;\n",
       "    }\n",
       "\n",
       "    .dataframe thead th {\n",
       "        text-align: right;\n",
       "    }\n",
       "</style>\n",
       "<table border=\"1\" class=\"dataframe\">\n",
       "  <thead>\n",
       "    <tr style=\"text-align: right;\">\n",
       "      <th></th>\n",
       "      <th>Date</th>\n",
       "      <th>Ticker</th>\n",
       "      <th>Adj Close</th>\n",
       "      <th>EMA 20</th>\n",
       "      <th>EMA 50</th>\n",
       "      <th>MACD Line</th>\n",
       "      <th>MACD Signal</th>\n",
       "    </tr>\n",
       "  </thead>\n",
       "  <tbody>\n",
       "    <tr>\n",
       "      <th>0</th>\n",
       "      <td>2024-02-20</td>\n",
       "      <td>AAME</td>\n",
       "      <td>2.487982</td>\n",
       "      <td>2.487982</td>\n",
       "      <td>2.487982</td>\n",
       "      <td>0.000000</td>\n",
       "      <td>0.000000</td>\n",
       "    </tr>\n",
       "    <tr>\n",
       "      <th>1</th>\n",
       "      <td>2024-02-20</td>\n",
       "      <td>AAON</td>\n",
       "      <td>81.456718</td>\n",
       "      <td>81.456718</td>\n",
       "      <td>81.456718</td>\n",
       "      <td>0.000000</td>\n",
       "      <td>0.000000</td>\n",
       "    </tr>\n",
       "    <tr>\n",
       "      <th>2</th>\n",
       "      <td>2024-02-20</td>\n",
       "      <td>AAPL</td>\n",
       "      <td>180.905411</td>\n",
       "      <td>180.905411</td>\n",
       "      <td>180.905411</td>\n",
       "      <td>0.000000</td>\n",
       "      <td>0.000000</td>\n",
       "    </tr>\n",
       "    <tr>\n",
       "      <th>3</th>\n",
       "      <td>2024-02-20</td>\n",
       "      <td>ACAD</td>\n",
       "      <td>24.850000</td>\n",
       "      <td>24.850000</td>\n",
       "      <td>24.850000</td>\n",
       "      <td>0.000000</td>\n",
       "      <td>0.000000</td>\n",
       "    </tr>\n",
       "    <tr>\n",
       "      <th>4</th>\n",
       "      <td>2024-02-20</td>\n",
       "      <td>ACHV</td>\n",
       "      <td>4.010000</td>\n",
       "      <td>4.010000</td>\n",
       "      <td>4.010000</td>\n",
       "      <td>0.000000</td>\n",
       "      <td>0.000000</td>\n",
       "    </tr>\n",
       "    <tr>\n",
       "      <th>...</th>\n",
       "      <td>...</td>\n",
       "      <td>...</td>\n",
       "      <td>...</td>\n",
       "      <td>...</td>\n",
       "      <td>...</td>\n",
       "      <td>...</td>\n",
       "      <td>...</td>\n",
       "    </tr>\n",
       "    <tr>\n",
       "      <th>210362</th>\n",
       "      <td>2024-12-18</td>\n",
       "      <td>ZBRA</td>\n",
       "      <td>383.470001</td>\n",
       "      <td>399.707459</td>\n",
       "      <td>389.058079</td>\n",
       "      <td>2.281997</td>\n",
       "      <td>5.208825</td>\n",
       "    </tr>\n",
       "    <tr>\n",
       "      <th>210363</th>\n",
       "      <td>2024-12-18</td>\n",
       "      <td>ZD</td>\n",
       "      <td>55.570000</td>\n",
       "      <td>57.315090</td>\n",
       "      <td>54.416341</td>\n",
       "      <td>1.108484</td>\n",
       "      <td>1.718508</td>\n",
       "    </tr>\n",
       "    <tr>\n",
       "      <th>210364</th>\n",
       "      <td>2024-12-18</td>\n",
       "      <td>ZG</td>\n",
       "      <td>72.410004</td>\n",
       "      <td>76.554072</td>\n",
       "      <td>71.164145</td>\n",
       "      <td>1.707850</td>\n",
       "      <td>2.960973</td>\n",
       "    </tr>\n",
       "    <tr>\n",
       "      <th>210365</th>\n",
       "      <td>2024-12-18</td>\n",
       "      <td>ZION</td>\n",
       "      <td>53.119999</td>\n",
       "      <td>57.740793</td>\n",
       "      <td>55.834897</td>\n",
       "      <td>-0.125226</td>\n",
       "      <td>0.725610</td>\n",
       "    </tr>\n",
       "    <tr>\n",
       "      <th>210366</th>\n",
       "      <td>2024-12-18</td>\n",
       "      <td>ZYXI</td>\n",
       "      <td>8.170000</td>\n",
       "      <td>8.238959</td>\n",
       "      <td>8.266740</td>\n",
       "      <td>-0.008255</td>\n",
       "      <td>-0.028487</td>\n",
       "    </tr>\n",
       "  </tbody>\n",
       "</table>\n",
       "<p>210367 rows × 7 columns</p>\n",
       "</div>"
      ],
      "text/plain": [
       "             Date Ticker   Adj Close      EMA 20      EMA 50  MACD Line  \\\n",
       "0      2024-02-20   AAME    2.487982    2.487982    2.487982   0.000000   \n",
       "1      2024-02-20   AAON   81.456718   81.456718   81.456718   0.000000   \n",
       "2      2024-02-20   AAPL  180.905411  180.905411  180.905411   0.000000   \n",
       "3      2024-02-20   ACAD   24.850000   24.850000   24.850000   0.000000   \n",
       "4      2024-02-20   ACHV    4.010000    4.010000    4.010000   0.000000   \n",
       "...           ...    ...         ...         ...         ...        ...   \n",
       "210362 2024-12-18   ZBRA  383.470001  399.707459  389.058079   2.281997   \n",
       "210363 2024-12-18     ZD   55.570000   57.315090   54.416341   1.108484   \n",
       "210364 2024-12-18     ZG   72.410004   76.554072   71.164145   1.707850   \n",
       "210365 2024-12-18   ZION   53.119999   57.740793   55.834897  -0.125226   \n",
       "210366 2024-12-18   ZYXI    8.170000    8.238959    8.266740  -0.008255   \n",
       "\n",
       "        MACD Signal  \n",
       "0          0.000000  \n",
       "1          0.000000  \n",
       "2          0.000000  \n",
       "3          0.000000  \n",
       "4          0.000000  \n",
       "...             ...  \n",
       "210362     5.208825  \n",
       "210363     1.718508  \n",
       "210364     2.960973  \n",
       "210365     0.725610  \n",
       "210366    -0.028487  \n",
       "\n",
       "[210367 rows x 7 columns]"
      ]
     },
     "execution_count": 67,
     "metadata": {},
     "output_type": "execute_result"
    }
   ],
   "source": [
    "df"
   ]
  },
  {
   "cell_type": "code",
   "execution_count": 97,
   "metadata": {},
   "outputs": [],
   "source": [
    "df = convert_numeric(df)\n",
    "df = df.groupby('Ticker').apply(scale_group)\n",
    "df = df.drop('Ticker', axis=1).reset_index().drop('level_1', axis=1)"
   ]
  },
  {
   "cell_type": "code",
   "execution_count": 98,
   "metadata": {},
   "outputs": [
    {
     "data": {
      "text/html": [
       "<div>\n",
       "<style scoped>\n",
       "    .dataframe tbody tr th:only-of-type {\n",
       "        vertical-align: middle;\n",
       "    }\n",
       "\n",
       "    .dataframe tbody tr th {\n",
       "        vertical-align: top;\n",
       "    }\n",
       "\n",
       "    .dataframe thead th {\n",
       "        text-align: right;\n",
       "    }\n",
       "</style>\n",
       "<table border=\"1\" class=\"dataframe\">\n",
       "  <thead>\n",
       "    <tr style=\"text-align: right;\">\n",
       "      <th></th>\n",
       "      <th>Ticker</th>\n",
       "      <th>Date</th>\n",
       "      <th>Adj Close</th>\n",
       "      <th>EMA 20</th>\n",
       "      <th>EMA 50</th>\n",
       "      <th>MACD Line</th>\n",
       "      <th>MACD Signal</th>\n",
       "    </tr>\n",
       "  </thead>\n",
       "  <tbody>\n",
       "    <tr>\n",
       "      <th>0</th>\n",
       "      <td>AAME</td>\n",
       "      <td>2024-02-20</td>\n",
       "      <td>0.769344</td>\n",
       "      <td>0.796593</td>\n",
       "      <td>0.846007</td>\n",
       "      <td>0.736258</td>\n",
       "      <td>0.742801</td>\n",
       "    </tr>\n",
       "    <tr>\n",
       "      <th>1</th>\n",
       "      <td>AAME</td>\n",
       "      <td>2024-02-21</td>\n",
       "      <td>0.819800</td>\n",
       "      <td>0.802128</td>\n",
       "      <td>0.848551</td>\n",
       "      <td>0.758749</td>\n",
       "      <td>0.747720</td>\n",
       "    </tr>\n",
       "    <tr>\n",
       "      <th>2</th>\n",
       "      <td>AAME</td>\n",
       "      <td>2024-02-22</td>\n",
       "      <td>0.906296</td>\n",
       "      <td>0.816626</td>\n",
       "      <td>0.855358</td>\n",
       "      <td>0.814670</td>\n",
       "      <td>0.763885</td>\n",
       "    </tr>\n",
       "    <tr>\n",
       "      <th>3</th>\n",
       "      <td>AAME</td>\n",
       "      <td>2024-02-23</td>\n",
       "      <td>0.906296</td>\n",
       "      <td>0.829743</td>\n",
       "      <td>0.861898</td>\n",
       "      <td>0.857588</td>\n",
       "      <td>0.786203</td>\n",
       "    </tr>\n",
       "    <tr>\n",
       "      <th>4</th>\n",
       "      <td>AAME</td>\n",
       "      <td>2024-02-26</td>\n",
       "      <td>0.920712</td>\n",
       "      <td>0.843192</td>\n",
       "      <td>0.868908</td>\n",
       "      <td>0.896258</td>\n",
       "      <td>0.812515</td>\n",
       "    </tr>\n",
       "    <tr>\n",
       "      <th>...</th>\n",
       "      <td>...</td>\n",
       "      <td>...</td>\n",
       "      <td>...</td>\n",
       "      <td>...</td>\n",
       "      <td>...</td>\n",
       "      <td>...</td>\n",
       "      <td>...</td>\n",
       "    </tr>\n",
       "    <tr>\n",
       "      <th>210362</th>\n",
       "      <td>ZYXI</td>\n",
       "      <td>2024-12-12</td>\n",
       "      <td>0.148092</td>\n",
       "      <td>0.066828</td>\n",
       "      <td>0.033293</td>\n",
       "      <td>0.636277</td>\n",
       "      <td>0.627782</td>\n",
       "    </tr>\n",
       "    <tr>\n",
       "      <th>210363</th>\n",
       "      <td>ZYXI</td>\n",
       "      <td>2024-12-13</td>\n",
       "      <td>0.145038</td>\n",
       "      <td>0.065429</td>\n",
       "      <td>0.032253</td>\n",
       "      <td>0.635445</td>\n",
       "      <td>0.629658</td>\n",
       "    </tr>\n",
       "    <tr>\n",
       "      <th>210364</th>\n",
       "      <td>ZYXI</td>\n",
       "      <td>2024-12-16</td>\n",
       "      <td>0.192366</td>\n",
       "      <td>0.070029</td>\n",
       "      <td>0.033881</td>\n",
       "      <td>0.665797</td>\n",
       "      <td>0.638582</td>\n",
       "    </tr>\n",
       "    <tr>\n",
       "      <th>210365</th>\n",
       "      <td>ZYXI</td>\n",
       "      <td>2024-12-17</td>\n",
       "      <td>0.184733</td>\n",
       "      <td>0.073245</td>\n",
       "      <td>0.035022</td>\n",
       "      <td>0.684919</td>\n",
       "      <td>0.650397</td>\n",
       "    </tr>\n",
       "    <tr>\n",
       "      <th>210366</th>\n",
       "      <td>ZYXI</td>\n",
       "      <td>2024-12-18</td>\n",
       "      <td>0.149618</td>\n",
       "      <td>0.071803</td>\n",
       "      <td>0.034168</td>\n",
       "      <td>0.677368</td>\n",
       "      <td>0.658002</td>\n",
       "    </tr>\n",
       "  </tbody>\n",
       "</table>\n",
       "<p>210367 rows × 7 columns</p>\n",
       "</div>"
      ],
      "text/plain": [
       "       Ticker       Date  Adj Close    EMA 20    EMA 50  MACD Line  \\\n",
       "0        AAME 2024-02-20   0.769344  0.796593  0.846007   0.736258   \n",
       "1        AAME 2024-02-21   0.819800  0.802128  0.848551   0.758749   \n",
       "2        AAME 2024-02-22   0.906296  0.816626  0.855358   0.814670   \n",
       "3        AAME 2024-02-23   0.906296  0.829743  0.861898   0.857588   \n",
       "4        AAME 2024-02-26   0.920712  0.843192  0.868908   0.896258   \n",
       "...       ...        ...        ...       ...       ...        ...   \n",
       "210362   ZYXI 2024-12-12   0.148092  0.066828  0.033293   0.636277   \n",
       "210363   ZYXI 2024-12-13   0.145038  0.065429  0.032253   0.635445   \n",
       "210364   ZYXI 2024-12-16   0.192366  0.070029  0.033881   0.665797   \n",
       "210365   ZYXI 2024-12-17   0.184733  0.073245  0.035022   0.684919   \n",
       "210366   ZYXI 2024-12-18   0.149618  0.071803  0.034168   0.677368   \n",
       "\n",
       "        MACD Signal  \n",
       "0          0.742801  \n",
       "1          0.747720  \n",
       "2          0.763885  \n",
       "3          0.786203  \n",
       "4          0.812515  \n",
       "...             ...  \n",
       "210362     0.627782  \n",
       "210363     0.629658  \n",
       "210364     0.638582  \n",
       "210365     0.650397  \n",
       "210366     0.658002  \n",
       "\n",
       "[210367 rows x 7 columns]"
      ]
     },
     "execution_count": 98,
     "metadata": {},
     "output_type": "execute_result"
    }
   ],
   "source": [
    "df"
   ]
  },
  {
   "cell_type": "code",
   "execution_count": 113,
   "metadata": {},
   "outputs": [],
   "source": [
    "def prepare_dataset(df, lookback, prediction_horizon):\n",
    "    tickers = df['Ticker'].unique()\n",
    "    X_list, y_list = [], []\n",
    "\n",
    "    with tqdm(total=len(tickers), desc=\"Preparing dataset\", unit=\"ticker\") as pbar:\n",
    "        for ticker in tickers:\n",
    "            stock_data = df[df['Ticker'] == ticker].copy()\n",
    "            stock_data.drop(columns=['Ticker', 'Date'], inplace=True)\n",
    "\n",
    "            stock_data_values = stock_data.values\n",
    "            x, y = create_dataset(stock_data_values, lookback, prediction_horizon)\n",
    "\n",
    "            X_list.append(x)\n",
    "            y_list.append(y)\n",
    "\n",
    "            del stock_data\n",
    "            gc.collect()\n",
    "\n",
    "            pbar.update(1)\n",
    "\n",
    "    X = np.concatenate(X_list, axis=0)\n",
    "    y = np.concatenate(y_list, axis=0)\n",
    "\n",
    "    print(f\"Total samples: {X.shape[0]}\")\n",
    "\n",
    "    return X, y"
   ]
  },
  {
   "cell_type": "code",
   "execution_count": 114,
   "metadata": {},
   "outputs": [],
   "source": [
    "lookback = 60\n",
    "prediction_horizon = 7"
   ]
  },
  {
   "cell_type": "code",
   "execution_count": 115,
   "metadata": {},
   "outputs": [
    {
     "name": "stderr",
     "output_type": "stream",
     "text": [
      "Preparing dataset: 100%|██████████| 997/997 [08:03<00:00,  2.06ticker/s]\n"
     ]
    },
    {
     "name": "stdout",
     "output_type": "stream",
     "text": [
      "Total samples: 143568\n"
     ]
    }
   ],
   "source": [
    "X, y = prepare_dataset(df, lookback, prediction_horizon)"
   ]
  },
  {
   "cell_type": "code",
   "execution_count": 117,
   "metadata": {},
   "outputs": [
    {
     "data": {
      "text/plain": [
       "(143568, 60, 4)"
      ]
     },
     "execution_count": 117,
     "metadata": {},
     "output_type": "execute_result"
    }
   ],
   "source": [
    "X.shape"
   ]
  },
  {
   "cell_type": "code",
   "execution_count": 118,
   "metadata": {},
   "outputs": [
    {
     "data": {
      "text/plain": [
       "(143568, 7)"
      ]
     },
     "execution_count": 118,
     "metadata": {},
     "output_type": "execute_result"
    }
   ],
   "source": [
    "y.shape"
   ]
  },
  {
   "cell_type": "code",
   "execution_count": 128,
   "metadata": {},
   "outputs": [],
   "source": [
    "input_size = X.shape[2]"
   ]
  },
  {
   "cell_type": "code",
   "execution_count": 125,
   "metadata": {},
   "outputs": [],
   "source": [
    "X_tensor = torch.FloatTensor(X).to(device)\n",
    "y_tensor = torch.FloatTensor(y).to(device)"
   ]
  },
  {
   "cell_type": "code",
   "execution_count": 129,
   "metadata": {},
   "outputs": [],
   "source": [
    "model = LSTMModel(input_size=input_size).to(device)"
   ]
  },
  {
   "cell_type": "code",
   "execution_count": null,
   "metadata": {},
   "outputs": [],
   "source": [
    "def get_batched_predictions(model, test_x_tensor, batch_size):\n",
    "    predictions = []\n",
    "    model.eval()\n",
    "    with torch.no_grad():\n",
    "        for i in range(0, len(test_x_tensor), batch_size):\n",
    "            x_batch = test_x_tensor[i:i + batch_size]\n",
    "            batch_predictions = model(x_batch)\n",
    "            predictions.append(batch_predictions.cpu().numpy())\n",
    "            torch.cuda.empty_cache()\n",
    "    return np.concatenate(predictions, axis=0)"
   ]
  },
  {
   "cell_type": "code",
   "execution_count": 134,
   "metadata": {},
   "outputs": [],
   "source": [
    "predictions = get_batched_predictions(model, X_tensor, batch_size)\n",
    "\n",
    "y_true = y_tensor.cpu().numpy()\n",
    "\n",
    "if len(predictions.shape) > 1 and predictions.shape[1] > 1:\n",
    "    predictions = predictions[:, 0]\n",
    "    y_true = y_true[:, 0]"
   ]
  },
  {
   "cell_type": "code",
   "execution_count": 135,
   "metadata": {},
   "outputs": [],
   "source": [
    "mse = mean_squared_error(y_true, predictions)\n",
    "mae = mean_absolute_error(y_true, predictions)\n",
    "rmse = root_mean_squared_error(y_true, predictions)"
   ]
  },
  {
   "cell_type": "code",
   "execution_count": 139,
   "metadata": {},
   "outputs": [
    {
     "name": "stdout",
     "output_type": "stream",
     "text": [
      "Evaluation Metrics\n",
      "Mean Squared Error (MSE): 0.0080\n",
      "Mean Absolute Error (MAE): 0.0658\n",
      "Root Mean-Squared Error (RMSE): 0.09\n"
     ]
    }
   ],
   "source": [
    "print(\"Evaluation Metrics\")\n",
    "print(f\"Mean Squared Error (MSE): {mse:.4f}\")\n",
    "print(f\"Mean Absolute Error (MAE): {mae:.4f}\")\n",
    "print(f\"Root Mean-Squared Error (RMSE): {rmse:.2f}\")"
   ]
  },
  {
   "cell_type": "code",
   "execution_count": 141,
   "metadata": {},
   "outputs": [
    {
     "data": {
      "image/png": "[encoded data removed]",
      "text/plain": [
       "<Figure size 1200x600 with 1 Axes>"
      ]
     },
     "metadata": {},
     "output_type": "display_data"
    }
   ],
   "source": [
    "plt.figure(figsize=(12, 6))\n",
    "plt.plot(y_true[:200], label='Actual', color='blue', linestyle='dashed')\n",
    "plt.plot(predictions[:200], label='Predicted', color='red')\n",
    "plt.title('Predicted vs. Actual Stock Prices')\n",
    "plt.xlabel('Sample Index')\n",
    "plt.ylabel('Normalized Stock Price')\n",
    "plt.legend()\n",
    "plt.grid(True, linestyle='--', linewidth=0.5)\n",
    "plt.show()"
   ]
  },
  {
   "cell_type": "code",
   "execution_count": null,
   "metadata": {},
   "outputs": [],
   "source": []
  }
 ],
 "metadata": {
  "accelerator": "GPU",
  "colab": {
   "gpuType": "T4",
   "provenance": []
  },
  "kernelspec": {
   "display_name": "base",
   "language": "python",
   "name": "python3"
  },
  "language_info": {
   "codemirror_mode": {
    "name": "ipython",
    "version": 3
   },
   "file_extension": ".py",
   "mimetype": "text/x-python",
   "name": "python",
   "nbconvert_exporter": "python",
   "pygments_lexer": "ipython3",
   "version": "3.12.7"
  }
 },
 "nbformat": 4,
 "nbformat_minor": 0
}
