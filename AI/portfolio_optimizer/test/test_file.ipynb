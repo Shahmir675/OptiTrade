{
 "cells": [
  {
   "cell_type": "code",
   "execution_count": 1,
   "id": "9faf7a39",
   "metadata": {},
   "outputs": [
    {
     "name": "stderr",
     "output_type": "stream",
     "text": [
      "Gym has been unmaintained since 2022 and does not support NumPy 2.0 amongst other critical functionality.\n",
      "Please upgrade to Gymnasium, the maintained drop-in replacement of Gym, or contact the authors of your software and request that they upgrade.\n",
      "Users of this version of Gym should be able to simply replace 'import gym' with 'import gymnasium as gym' in the vast majority of cases.\n",
      "See the migration guide at https://gymnasium.farama.org/introduction/migration_guide/ for additional information.\n"
     ]
    }
   ],
   "source": [
    "import sys\n",
    "import os\n",
    "\n",
    "# Ensure project root is in Python path\n",
    "sys.path.append(os.path.abspath(\"..\"))  # if notebook is inside test/\n",
    "# OR sys.path.append(os.path.abspath(\".\")) if notebook is in project root\n",
    "\n",
    "from portfolio_optimizer import PortfolioOptimizer\n",
    "\n",
    "risk_profile = {\n",
    "    'risk_tolerance': 'moderate',\n",
    "    'investment_horizon': 'long',\n",
    "    'preferred_sectors': ['Technology', 'Healthcare'],\n",
    "    'excluded_sectors': ['Energy']\n",
    "}\n"
   ]
  },
  {
   "cell_type": "code",
   "execution_count": null,
   "id": "1dae3725",
   "metadata": {},
   "outputs": [],
   "source": "optimizer = PortfolioOptimizer(\n    stocks_json_path=\"stocks.json\",\n    historical_data_path=\"../../10_Year_Historical_Scaled.csv\",\n    risk_profile=risk_profile,\n    initial_balance=100000.0\n)"
  },
  {
   "cell_type": "code",
   "execution_count": null,
   "id": "6f31f6e4",
   "metadata": {},
   "outputs": [
    {
     "name": "stdout",
     "output_type": "stream",
     "text": [
      "Starting comprehensive system training...\n",
      "Target LSTM epochs: 100\n",
      "Target PPO episodes: 500\n",
      "\n",
      "=== Phase 1: Training LSTM Predictor ===\n",
      "Status: Initializing LSTM predictor...\n",
      "Initializing LSTM predictor...\n"
     ]
    },
    {
     "name": "stdout",
     "output_type": "stream",
     "text": [
      "Prepared 100737 training samples with 6 features\n",
      "Training LSTM model on 80589 samples...\n"
     ]
    },
    {
     "name": "stderr",
     "output_type": "stream",
     "text": [
      "LSTM Training:   0%|          | 0/100 [00:00<?, ?epoch/s]"
     ]
    }
   ],
   "source": [
    "optimizer.train_system(\n",
    "    lstm_epochs=100,\n",
    "    ppo_episodes=500\n",
    ")"
   ]
  },
  {
   "cell_type": "code",
   "execution_count": null,
   "id": "d215a802",
   "metadata": {},
   "outputs": [],
   "source": []
  }
 ],
 "metadata": {
  "kernelspec": {
   "display_name": "Python 3",
   "language": "python",
   "name": "python3"
  },
  "language_info": {
   "codemirror_mode": {
    "name": "ipython",
    "version": 3
   },
   "file_extension": ".py",
   "mimetype": "text/x-python",
   "name": "python",
   "nbconvert_exporter": "python",
   "pygments_lexer": "ipython3",
   "version": "3.12.1"
  }
 },
 "nbformat": 4,
 "nbformat_minor": 5
}