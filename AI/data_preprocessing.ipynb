{
 "cells": [
  {
   "cell_type": "markdown",
   "metadata": {},
   "source": [
    "## Importing Dependencies"
   ]
  },
  {
   "cell_type": "code",
   "execution_count": 1,
   "metadata": {},
   "outputs": [],
   "source": [
    "import pandas as pd\n",
    "from tqdm.notebook import tqdm\n",
    "import pandas_datareader.data as web"
   ]
  },
  {
   "cell_type": "markdown",
   "metadata": {},
   "source": [
    "## Data Augmentation"
   ]
  },
  {
   "cell_type": "markdown",
   "metadata": {},
   "source": [
    "As we saw last time, the number of expected rows $(1280 \\times 2517 = 3221760)$ did not quite match the data we got. This is due to the limitations of the Yahoo Finance API. Thus, we augment the data by using a different source."
   ]
  },
  {
   "cell_type": "code",
   "execution_count": 2,
   "metadata": {},
   "outputs": [],
   "source": [
    "# Dropping Adjusted Close to account for a more\n",
    "# consistent dataset.\n",
    "\n",
    "df = pd.read_csv(\"10_Year_Historical.csv\")\n",
    "df['Date'] = pd.to_datetime(df['Date'])\n",
    "df.set_index('Date', inplace=True)"
   ]
  },
  {
   "cell_type": "code",
   "execution_count": 3,
   "metadata": {},
   "outputs": [],
   "source": [
    "# Filtering tickers with missing data\n",
    "\n",
    "aapl_data = df[df['Ticker'] == 'AAPL']\n",
    "standard_length = len(aapl_data)\n",
    "ticker_value_counts = df['Ticker'].value_counts()\n",
    "mask = ticker_value_counts < standard_length\n",
    "tickers_missing_data = ticker_value_counts[mask].index.tolist()"
   ]
  },
  {
   "cell_type": "code",
   "execution_count": 4,
   "metadata": {},
   "outputs": [],
   "source": [
    "def augment_data(ticker, start_date, end_date):\n",
    "    try:\n",
    "        data = web.DataReader(ticker, 'stooq', start_date, end_date)\n",
    "        data['Ticker'] = ticker\n",
    "        data['Adj Close'] = data['Close']\n",
    "        return data[['Ticker', 'Open', 'High', 'Low', 'Close', 'Adj Close', 'Volume']]\n",
    "    except Exception as e:\n",
    "        print(f\"Error fetching data for {ticker}: {e}\")\n",
    "        return pd.DataFrame()"
   ]
  },
  {
   "cell_type": "code",
   "execution_count": 5,
   "metadata": {},
   "outputs": [
    {
     "data": {
      "application/vnd.jupyter.widget-view+json": {
       "model_id": "9cb486edf5da4496b11ce784bf4035f0",
       "version_major": 2,
       "version_minor": 0
      },
      "text/plain": [
       "Augmenting data:   0%|          | 0/2 [00:00<?, ? stocks/s]"
      ]
     },
     "metadata": {},
     "output_type": "display_data"
    }
   ],
   "source": [
    "augmented_dfs = []\n",
    "\n",
    "with tqdm(total=len(tickers_missing_data), desc='Augmenting data', unit=' stocks') as pbar:\n",
    "    for ticker in tickers_missing_data:\n",
    "        missing_dates = aapl_data.index.difference(df[df['Ticker'] == ticker].index)\n",
    "        start_date, end_date = missing_dates.min(), missing_dates.max()\n",
    "        augmented = augment_data(ticker, start_date, end_date)\n",
    "        augmented_dfs.append(augmented)\n",
    "    \n",
    "        pbar.update(1)"
   ]
  },
  {
   "cell_type": "code",
   "execution_count": 6,
   "metadata": {},
   "outputs": [],
   "source": [
    "df_augmented = pd.concat(augmented_dfs)\n",
    "df = pd.concat([df, df_augmented])\n",
    "df.sort_values(by=['Ticker', 'Date'], inplace=True)"
   ]
  },
  {
   "cell_type": "code",
   "execution_count": 7,
   "metadata": {},
   "outputs": [
    {
     "name": "stdout",
     "output_type": "stream",
     "text": [
      "(3221760, 7)\n"
     ]
    },
    {
     "data": {
      "text/html": [
       "<div>\n",
       "<style scoped>\n",
       "    .dataframe tbody tr th:only-of-type {\n",
       "        vertical-align: middle;\n",
       "    }\n",
       "\n",
       "    .dataframe tbody tr th {\n",
       "        vertical-align: top;\n",
       "    }\n",
       "\n",
       "    .dataframe thead th {\n",
       "        text-align: right;\n",
       "    }\n",
       "</style>\n",
       "<table border=\"1\" class=\"dataframe\">\n",
       "  <thead>\n",
       "    <tr style=\"text-align: right;\">\n",
       "      <th></th>\n",
       "      <th>Ticker</th>\n",
       "      <th>Open</th>\n",
       "      <th>High</th>\n",
       "      <th>Low</th>\n",
       "      <th>Close</th>\n",
       "      <th>Adj Close</th>\n",
       "      <th>Volume</th>\n",
       "    </tr>\n",
       "    <tr>\n",
       "      <th>Date</th>\n",
       "      <th></th>\n",
       "      <th></th>\n",
       "      <th></th>\n",
       "      <th></th>\n",
       "      <th></th>\n",
       "      <th></th>\n",
       "      <th></th>\n",
       "    </tr>\n",
       "  </thead>\n",
       "  <tbody>\n",
       "    <tr>\n",
       "      <th>2014-10-20</th>\n",
       "      <td>AAL</td>\n",
       "      <td>34.189999</td>\n",
       "      <td>35.389999</td>\n",
       "      <td>34.000000</td>\n",
       "      <td>35.220001</td>\n",
       "      <td>33.287529</td>\n",
       "      <td>13532700</td>\n",
       "    </tr>\n",
       "    <tr>\n",
       "      <th>2014-10-21</th>\n",
       "      <td>AAL</td>\n",
       "      <td>36.139999</td>\n",
       "      <td>37.880001</td>\n",
       "      <td>36.020000</td>\n",
       "      <td>37.849998</td>\n",
       "      <td>35.773212</td>\n",
       "      <td>26347700</td>\n",
       "    </tr>\n",
       "    <tr>\n",
       "      <th>2014-10-22</th>\n",
       "      <td>AAL</td>\n",
       "      <td>38.049999</td>\n",
       "      <td>38.220001</td>\n",
       "      <td>36.939999</td>\n",
       "      <td>37.040001</td>\n",
       "      <td>35.007656</td>\n",
       "      <td>18958400</td>\n",
       "    </tr>\n",
       "    <tr>\n",
       "      <th>2014-10-23</th>\n",
       "      <td>AAL</td>\n",
       "      <td>37.430000</td>\n",
       "      <td>40.180000</td>\n",
       "      <td>36.799999</td>\n",
       "      <td>38.480000</td>\n",
       "      <td>36.368645</td>\n",
       "      <td>33292000</td>\n",
       "    </tr>\n",
       "    <tr>\n",
       "      <th>2014-10-24</th>\n",
       "      <td>AAL</td>\n",
       "      <td>38.599998</td>\n",
       "      <td>39.950001</td>\n",
       "      <td>38.580002</td>\n",
       "      <td>39.820000</td>\n",
       "      <td>37.635128</td>\n",
       "      <td>17834100</td>\n",
       "    </tr>\n",
       "  </tbody>\n",
       "</table>\n",
       "</div>"
      ],
      "text/plain": [
       "           Ticker       Open       High        Low      Close  Adj Close  \\\n",
       "Date                                                                       \n",
       "2014-10-20    AAL  34.189999  35.389999  34.000000  35.220001  33.287529   \n",
       "2014-10-21    AAL  36.139999  37.880001  36.020000  37.849998  35.773212   \n",
       "2014-10-22    AAL  38.049999  38.220001  36.939999  37.040001  35.007656   \n",
       "2014-10-23    AAL  37.430000  40.180000  36.799999  38.480000  36.368645   \n",
       "2014-10-24    AAL  38.599998  39.950001  38.580002  39.820000  37.635128   \n",
       "\n",
       "              Volume  \n",
       "Date                  \n",
       "2014-10-20  13532700  \n",
       "2014-10-21  26347700  \n",
       "2014-10-22  18958400  \n",
       "2014-10-23  33292000  \n",
       "2014-10-24  17834100  "
      ]
     },
     "execution_count": 7,
     "metadata": {},
     "output_type": "execute_result"
    }
   ],
   "source": [
    "print(df.shape)\n",
    "df.head()"
   ]
  },
  {
   "cell_type": "code",
   "execution_count": 8,
   "metadata": {},
   "outputs": [
    {
     "name": "stdout",
     "output_type": "stream",
     "text": [
      "[]\n"
     ]
    },
    {
     "name": "stderr",
     "output_type": "stream",
     "text": [
      "/tmp/ipykernel_2998682/105174469.py:8: DeprecationWarning: DataFrameGroupBy.apply operated on the grouping columns. This behavior is deprecated, and in a future version of pandas the grouping columns will be excluded from the operation. Either pass `include_groups=False` to exclude the groupings or explicitly select the grouping columns after groupby to silence this warning.\n",
      "  tickers_mismatched_dates = df.groupby('Ticker').apply(\n"
     ]
    }
   ],
   "source": [
    "# Check for date mismatches across all tickers\n",
    "\n",
    "aapl_dates = aapl_data.index.unique()\n",
    "\n",
    "def check_dates(ticker_data):\n",
    "    return (ticker_data.index.unique() == aapl_dates).all()\n",
    "\n",
    "tickers_mismatched_dates = df.groupby('Ticker').apply(\n",
    "                                            lambda x: not check_dates(x))\n",
    "\n",
    "mismatched_tickers = tickers_mismatched_dates[tickers_mismatched_dates].index.tolist()\n",
    "print(mismatched_tickers)"
   ]
  },
  {
   "cell_type": "code",
   "execution_count": 27,
   "metadata": {},
   "outputs": [],
   "source": [
    "df.to_csv('10_Year_Historical_Preprocessed.csv')"
   ]
  },
  {
   "cell_type": "code",
   "execution_count": null,
   "metadata": {},
   "outputs": [],
   "source": []
  }
 ],
 "metadata": {
  "kernelspec": {
   "display_name": "base",
   "language": "python",
   "name": "python3"
  },
  "language_info": {
   "codemirror_mode": {
    "name": "ipython",
    "version": 3
   },
   "file_extension": ".py",
   "mimetype": "text/x-python",
   "name": "python",
   "nbconvert_exporter": "python",
   "pygments_lexer": "ipython3",
   "version": "3.12.7"
  }
 },
 "nbformat": 4,
 "nbformat_minor": 2
}
