{
  "cells": [
    {
      "cell_type": "markdown",
      "metadata": {
        "id": "G5MBc3D39eC9"
      },
      "source": [
        "## Importing Dependencies"
      ]
    },
    {
      "cell_type": "code",
      "execution_count": 2,
      "metadata": {
        "id": "RHuWdY8t9eDB"
      },
      "outputs": [],
      "source": [
        "import numpy as np\n",
        "import pandas as pd\n",
        "from sklearn.preprocessing import MinMaxScaler\n",
        "import warnings\n",
        "from tqdm.notebook import tqdm"
      ]
    },
    {
      "cell_type": "code",
      "execution_count": 3,
      "metadata": {
        "id": "N0TS3qG-9eDD"
      },
      "outputs": [],
      "source": [
        "warnings.filterwarnings('ignore', category=DeprecationWarning)"
      ]
    },
    {
      "cell_type": "markdown",
      "metadata": {
        "id": "3s4yzOVq9eDE"
      },
      "source": [
        "## Technical Indicators Calculation"
      ]
    },
    {
      "cell_type": "code",
      "execution_count": 6,
      "metadata": {
        "id": "2ci6acNcgZK0"
      },
      "outputs": [],
      "source": [
        "df = pd.read_csv('10_Year_Historical_Preprocessed.csv')"
      ]
    },
    {
      "cell_type": "code",
      "execution_count": 7,
      "metadata": {
        "id": "cjqspmvqzsaa"
      },
      "outputs": [],
      "source": [
        "df = df[['Date', 'Ticker', 'Adj Close']]\n",
        "df['Date'] = pd.to_datetime(df['Date'])"
      ]
    },
    {
      "cell_type": "code",
      "execution_count": 8,
      "metadata": {
        "id": "xvcq7LCF9eDH"
      },
      "outputs": [],
      "source": [
        "\n",
        "def exponential_moving_avg(df: pd.DataFrame, price_col='Adj Close', window_size=20):\n",
        "    return df[price_col].ewm(span=window_size, adjust=False).mean()\n",
        "\n",
        "def macd_line(df: pd.DataFrame, price_col='Adj Close', short_window=12, long_window=26):\n",
        "    short_ema = exponential_moving_avg(df, price_col, short_window)\n",
        "    long_ema = exponential_moving_avg(df, price_col, long_window)\n",
        "    return short_ema - long_ema\n",
        "\n",
        "def macd_signal(df: pd.DataFrame, price_col='Adj Close', signal_window=9, short_window=12, long_window=26):\n",
        "    macd = macd_line(df, price_col, short_window, long_window)\n",
        "    return macd.ewm(span=signal_window, adjust=False).mean()\n"
      ]
    },
    {
      "cell_type": "code",
      "execution_count": 9,
      "metadata": {
        "id": "crx43ecU9eDI"
      },
      "outputs": [],
      "source": [
        "df['EMA 20'] = df.groupby('Ticker').apply(lambda x: exponential_moving_avg(x, price_col='Adj Close', window_size=20)).reset_index(level=0, drop=True)\n",
        "df['EMA 50'] = df.groupby('Ticker').apply(lambda x: exponential_moving_avg(x, price_col='Adj Close', window_size=50)).reset_index(level=0, drop=True)\n",
        "df['MACD Line'] = df.groupby('Ticker').apply(lambda x: macd_line(x, price_col='Adj Close')).reset_index(level=0, drop=True)\n",
        "df['MACD Signal'] = df.groupby('Ticker').apply(lambda x: macd_signal(x, price_col='Adj Close')).reset_index(level=0, drop=True)"
      ]
    },
    {
      "cell_type": "markdown",
      "metadata": {
        "id": "7VUN6_Cf9eDJ"
      },
      "source": [
        "## Feature Scaling"
      ]
    },
    {
      "cell_type": "code",
      "execution_count": 10,
      "metadata": {
        "id": "Q79p2OdU9eDK"
      },
      "outputs": [],
      "source": [
        "numeric_columns = df.select_dtypes(include=[np.number]).columns\n",
        "df[numeric_columns] = df[numeric_columns].astype(float)"
      ]
    },
    {
      "cell_type": "code",
      "execution_count": 11,
      "metadata": {
        "id": "ow0V8aSy9eDN"
      },
      "outputs": [],
      "source": [
        "def scale_group(group):\n",
        "    scaler = MinMaxScaler(feature_range=(0, 1))\n",
        "    group.iloc[:, 2:] = scaler.fit_transform(group.iloc[:, 2:])\n",
        "    return group"
      ]
    },
    {
      "cell_type": "code",
      "execution_count": 12,
      "metadata": {
        "id": "YyJcSEwP9eDN"
      },
      "outputs": [],
      "source": [
        "scaled_df = df.groupby('Ticker').apply(scale_group)"
      ]
    },
    {
      "cell_type": "code",
      "execution_count": 13,
      "metadata": {
        "id": "LOxJi0ce9eDO"
      },
      "outputs": [],
      "source": [
        "scaled_df = scaled_df.drop('Ticker', axis=1).reset_index().drop('level_1', axis=1)"
      ]
    },
    {
      "cell_type": "markdown",
      "metadata": {
        "id": "IHkbnqBzUPgs"
      },
      "source": [
        "## Saving scaled dataset"
      ]
    },
    {
      "cell_type": "code",
      "execution_count": 14,
      "metadata": {
        "id": "abi071YiUPLH"
      },
      "outputs": [],
      "source": [
        "scaled_df.to_csv('10_Year_Historical_Scaled.csv')"
      ]
    },
    {
      "cell_type": "code",
      "execution_count": null,
      "metadata": {
        "id": "x4NSokQbVII4"
      },
      "outputs": [],
      "source": []
    }
  ],
  "metadata": {
    "colab": {
      "provenance": []
    },
    "kernelspec": {
      "display_name": "base",
      "language": "python",
      "name": "python3"
    },
    "language_info": {
      "codemirror_mode": {
        "name": "ipython",
        "version": 3
      },
      "file_extension": ".py",
      "mimetype": "text/x-python",
      "name": "python",
      "nbconvert_exporter": "python",
      "pygments_lexer": "ipython3",
      "version": "3.12.7"
    }
  },
  "nbformat": 4,
  "nbformat_minor": 0
}
