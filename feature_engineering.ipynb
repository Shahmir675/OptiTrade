{
  "cells": [
    {
      "cell_type": "markdown",
      "metadata": {
        "id": "G5MBc3D39eC9"
      },
      "source": [
        "## Importing Dependencies"
      ]
    },
    {
      "cell_type": "code",
      "execution_count": 1,
      "metadata": {
        "id": "RHuWdY8t9eDB"
      },
      "outputs": [],
      "source": [
        "import numpy as np\n",
        "import pandas as pd\n",
        "from sklearn.preprocessing import MinMaxScaler\n",
        "import warnings\n",
        "from tqdm.notebook import tqdm"
      ]
    },
    {
      "cell_type": "code",
      "execution_count": 2,
      "metadata": {
        "id": "N0TS3qG-9eDD"
      },
      "outputs": [],
      "source": [
        "warnings.filterwarnings('ignore', category=DeprecationWarning)"
      ]
    },
    {
      "cell_type": "markdown",
      "metadata": {
        "id": "3s4yzOVq9eDE"
      },
      "source": [
        "## Technical Indicators Calculation"
      ]
    },
    {
      "cell_type": "code",
      "execution_count": 3,
      "metadata": {
        "id": "2ci6acNcgZK0"
      },
      "outputs": [],
      "source": [
        "df = pd.read_csv('10_Year_Historical_Preprocessed.csv')"
      ]
    },
    {
      "cell_type": "code",
      "execution_count": 4,
      "metadata": {
        "id": "cjqspmvqzsaa"
      },
      "outputs": [
        {
          "data": {
            "text/html": [
              "<div>\n",
              "<style scoped>\n",
              "    .dataframe tbody tr th:only-of-type {\n",
              "        vertical-align: middle;\n",
              "    }\n",
              "\n",
              "    .dataframe tbody tr th {\n",
              "        vertical-align: top;\n",
              "    }\n",
              "\n",
              "    .dataframe thead th {\n",
              "        text-align: right;\n",
              "    }\n",
              "</style>\n",
              "<table border=\"1\" class=\"dataframe\">\n",
              "  <thead>\n",
              "    <tr style=\"text-align: right;\">\n",
              "      <th></th>\n",
              "      <th>Date</th>\n",
              "      <th>Ticker</th>\n",
              "      <th>Adj Close</th>\n",
              "    </tr>\n",
              "  </thead>\n",
              "  <tbody>\n",
              "    <tr>\n",
              "      <th>0</th>\n",
              "      <td>2014-10-20</td>\n",
              "      <td>AAL</td>\n",
              "      <td>33.287529</td>\n",
              "    </tr>\n",
              "    <tr>\n",
              "      <th>1</th>\n",
              "      <td>2014-10-21</td>\n",
              "      <td>AAL</td>\n",
              "      <td>35.773212</td>\n",
              "    </tr>\n",
              "    <tr>\n",
              "      <th>2</th>\n",
              "      <td>2014-10-22</td>\n",
              "      <td>AAL</td>\n",
              "      <td>35.007656</td>\n",
              "    </tr>\n",
              "    <tr>\n",
              "      <th>3</th>\n",
              "      <td>2014-10-23</td>\n",
              "      <td>AAL</td>\n",
              "      <td>36.368645</td>\n",
              "    </tr>\n",
              "    <tr>\n",
              "      <th>4</th>\n",
              "      <td>2014-10-24</td>\n",
              "      <td>AAL</td>\n",
              "      <td>37.635128</td>\n",
              "    </tr>\n",
              "    <tr>\n",
              "      <th>...</th>\n",
              "      <td>...</td>\n",
              "      <td>...</td>\n",
              "      <td>...</td>\n",
              "    </tr>\n",
              "    <tr>\n",
              "      <th>3221755</th>\n",
              "      <td>2024-10-14</td>\n",
              "      <td>ZYXI</td>\n",
              "      <td>7.980000</td>\n",
              "    </tr>\n",
              "    <tr>\n",
              "      <th>3221756</th>\n",
              "      <td>2024-10-15</td>\n",
              "      <td>ZYXI</td>\n",
              "      <td>7.950000</td>\n",
              "    </tr>\n",
              "    <tr>\n",
              "      <th>3221757</th>\n",
              "      <td>2024-10-16</td>\n",
              "      <td>ZYXI</td>\n",
              "      <td>7.890000</td>\n",
              "    </tr>\n",
              "    <tr>\n",
              "      <th>3221758</th>\n",
              "      <td>2024-10-17</td>\n",
              "      <td>ZYXI</td>\n",
              "      <td>7.950000</td>\n",
              "    </tr>\n",
              "    <tr>\n",
              "      <th>3221759</th>\n",
              "      <td>2024-10-18</td>\n",
              "      <td>ZYXI</td>\n",
              "      <td>8.030000</td>\n",
              "    </tr>\n",
              "  </tbody>\n",
              "</table>\n",
              "<p>3221760 rows × 3 columns</p>\n",
              "</div>"
            ],
            "text/plain": [
              "              Date Ticker  Adj Close\n",
              "0       2014-10-20    AAL  33.287529\n",
              "1       2014-10-21    AAL  35.773212\n",
              "2       2014-10-22    AAL  35.007656\n",
              "3       2014-10-23    AAL  36.368645\n",
              "4       2014-10-24    AAL  37.635128\n",
              "...            ...    ...        ...\n",
              "3221755 2024-10-14   ZYXI   7.980000\n",
              "3221756 2024-10-15   ZYXI   7.950000\n",
              "3221757 2024-10-16   ZYXI   7.890000\n",
              "3221758 2024-10-17   ZYXI   7.950000\n",
              "3221759 2024-10-18   ZYXI   8.030000\n",
              "\n",
              "[3221760 rows x 3 columns]"
            ]
          },
          "execution_count": 4,
          "metadata": {},
          "output_type": "execute_result"
        }
      ],
      "source": [
        "def filter_df(df):\n",
        "    df = df[['Date', 'Ticker', 'Adj Close']]\n",
        "    df['Date'] = pd.to_datetime(df['Date'])\n",
        "    return df\n",
        "\n",
        "df = filter_df(df.copy())\n",
        "df"
      ]
    },
    {
      "cell_type": "code",
      "execution_count": 8,
      "metadata": {
        "id": "xvcq7LCF9eDH"
      },
      "outputs": [],
      "source": [
        "def exponential_moving_avg(df: pd.DataFrame, price_col='Adj Close', window_size=20):\n",
        "    return df[price_col].ewm(span=window_size, adjust=False).mean()\n",
        "\n",
        "def macd_line(df: pd.DataFrame, price_col='Adj Close', short_window=12, long_window=26):\n",
        "    short_ema = exponential_moving_avg(df, price_col, short_window)\n",
        "    long_ema = exponential_moving_avg(df, price_col, long_window)\n",
        "    return short_ema - long_ema\n",
        "\n",
        "def macd_signal(df: pd.DataFrame, price_col='Adj Close', signal_window=9, short_window=12, long_window=26):\n",
        "    macd = macd_line(df, price_col, short_window, long_window)\n",
        "    return macd.ewm(span=signal_window, adjust=False).mean()\n"
      ]
    },
    {
      "cell_type": "code",
      "execution_count": 9,
      "metadata": {
        "id": "crx43ecU9eDI"
      },
      "outputs": [],
      "source": [
        "df['EMA 20'] = df.groupby('Ticker').apply(lambda x: exponential_moving_avg(x, price_col='Adj Close', window_size=20)).reset_index(level=0, drop=True)\n",
        "df['EMA 50'] = df.groupby('Ticker').apply(lambda x: exponential_moving_avg(x, price_col='Adj Close', window_size=50)).reset_index(level=0, drop=True)\n",
        "df['MACD Line'] = df.groupby('Ticker').apply(lambda x: macd_line(x, price_col='Adj Close')).reset_index(level=0, drop=True)\n",
        "df['MACD Signal'] = df.groupby('Ticker').apply(lambda x: macd_signal(x, price_col='Adj Close')).reset_index(level=0, drop=True)"
      ]
    },
    {
      "cell_type": "markdown",
      "metadata": {
        "id": "7VUN6_Cf9eDJ"
      },
      "source": [
        "## Feature Scaling"
      ]
    },
    {
      "cell_type": "code",
      "execution_count": 10,
      "metadata": {
        "id": "Q79p2OdU9eDK"
      },
      "outputs": [],
      "source": [
        "numeric_columns = df.select_dtypes(include=[np.number]).columns\n",
        "df[numeric_columns] = df[numeric_columns].astype(float)"
      ]
    },
    {
      "cell_type": "code",
      "execution_count": 11,
      "metadata": {
        "id": "ow0V8aSy9eDN"
      },
      "outputs": [],
      "source": [
        "def scale_group(group):\n",
        "    scaler = MinMaxScaler(feature_range=(0, 1))\n",
        "    group.iloc[:, 2:] = scaler.fit_transform(group.iloc[:, 2:])\n",
        "    return group"
      ]
    },
    {
      "cell_type": "code",
      "execution_count": 12,
      "metadata": {
        "id": "YyJcSEwP9eDN"
      },
      "outputs": [],
      "source": [
        "scaled_df = df.groupby('Ticker').apply(scale_group)"
      ]
    },
    {
      "cell_type": "code",
      "execution_count": 13,
      "metadata": {
        "id": "LOxJi0ce9eDO"
      },
      "outputs": [],
      "source": [
        "scaled_df = scaled_df.drop('Ticker', axis=1).reset_index().drop('level_1', axis=1)"
      ]
    },
    {
      "cell_type": "markdown",
      "metadata": {
        "id": "IHkbnqBzUPgs"
      },
      "source": [
        "## Saving scaled dataset"
      ]
    },
    {
      "cell_type": "code",
      "execution_count": 14,
      "metadata": {
        "id": "abi071YiUPLH"
      },
      "outputs": [],
      "source": [
        "scaled_df.to_csv('10_Year_Historical_Scaled.csv')"
      ]
    },
    {
      "cell_type": "code",
      "execution_count": null,
      "metadata": {
        "id": "x4NSokQbVII4"
      },
      "outputs": [],
      "source": []
    }
  ],
  "metadata": {
    "colab": {
      "provenance": []
    },
    "kernelspec": {
      "display_name": "base",
      "language": "python",
      "name": "python3"
    },
    "language_info": {
      "codemirror_mode": {
        "name": "ipython",
        "version": 3
      },
      "file_extension": ".py",
      "mimetype": "text/x-python",
      "name": "python",
      "nbconvert_exporter": "python",
      "pygments_lexer": "ipython3",
      "version": "3.12.7"
    }
  },
  "nbformat": 4,
  "nbformat_minor": 0
}
